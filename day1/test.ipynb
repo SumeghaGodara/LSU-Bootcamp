{
  "nbformat": 4,
  "nbformat_minor": 0,
  "metadata": {
    "colab": {
      "name": "sci_comp_with_python.ipynb",
      "provenance": [],
      "collapsed_sections": [
        "UFekiWAcgO5y",
        "qsbFX3PjgO63",
        "wCROdnDBgO7E",
        "HwpH4UJ9gO7g"
      ],
      "include_colab_link": true
    },
    "language_info": {
      "codemirror_mode": {
        "name": "ipython",
        "version": 3
      },
      "file_extension": ".py",
      "mimetype": "text/x-python",
      "name": "python",
      "nbconvert_exporter": "python",
      "pygments_lexer": "ipython3",
      "version": "3.6.4"
    },
    "kernelspec": {
      "display_name": "Python 3",
      "language": "python",
      "name": "python3"
    }
  },
  "cells": [
    {
      "cell_type": "markdown",
      "metadata": {
        "id": "view-in-github",
        "colab_type": "text"
      },
      "source": [
        "<a href=\"https://colab.research.google.com/github/lsuhpchelp/lbrnloniworkshop2020/blob/master/day1/test.ipynb\" target=\"_parent\"><img src=\"https://colab.research.google.com/assets/colab-badge.svg\" alt=\"Open In Colab\"/></a>"
      ]
    },
    {
      "cell_type": "markdown",
      "metadata": {
        "id": "DdlQwl05ibyS",
        "colab_type": "text"
      },
      "source": [
        "# Scientific Computing with Python"
      ]
    },
    {
      "cell_type": "code",
      "metadata": {
        "id": "u_TWjvdFgO1T",
        "colab_type": "code",
        "colab": {}
      },
      "source": [
        "# to bring the print function from Python 3 into Python 2.6+\n",
        "from __future__ import print_function"
      ],
      "execution_count": 0,
      "outputs": []
    },
    {
      "cell_type": "markdown",
      "metadata": {
        "id": "rniBs6qggO1c",
        "colab_type": "text"
      },
      "source": [
        "### Demostration of Python Loop"
      ]
    },
    {
      "cell_type": "code",
      "metadata": {
        "id": "BDxT2c9JgO1d",
        "colab_type": "code",
        "outputId": "e3a7002a-c08d-46a9-b5fb-5c9d65b70412",
        "colab": {
          "base_uri": "https://localhost:8080/",
          "height": 35
        }
      },
      "source": [
        "a = list(range(5))\n",
        "print(a)"
      ],
      "execution_count": 0,
      "outputs": [
        {
          "output_type": "stream",
          "text": [
            "[0, 1, 2, 3, 4]\n"
          ],
          "name": "stdout"
        }
      ]
    },
    {
      "cell_type": "code",
      "metadata": {
        "id": "WX1vO658gO1n",
        "colab_type": "code",
        "outputId": "691f7a04-acaf-4d57-9651-9526134b166f",
        "colab": {
          "base_uri": "https://localhost:8080/",
          "height": 35
        }
      },
      "source": [
        "for idx in range(len(a)):\n",
        "    a[idx] += 5\n",
        "print(a)"
      ],
      "execution_count": 0,
      "outputs": [
        {
          "output_type": "stream",
          "text": [
            "[5, 6, 7, 8, 9]\n"
          ],
          "name": "stdout"
        }
      ]
    },
    {
      "cell_type": "markdown",
      "metadata": {
        "id": "uxalkqmMgO1r",
        "colab_type": "text"
      },
      "source": [
        "### Python Tuples\n",
        "- A tuple is a sequence of immutable Python objects. Tuples are sequences, just like lists. \n",
        "- The differences between tuples and lists are, the tuples cannot be changed unlike lists and tuples use parentheses, whereas lists use square brackets."
      ]
    },
    {
      "cell_type": "code",
      "metadata": {
        "id": "Y_W6J9fhgO1t",
        "colab_type": "code",
        "outputId": "73eeffd1-3c9b-412f-a5b5-427b5bb523aa",
        "colab": {
          "base_uri": "https://localhost:8080/",
          "height": 35
        }
      },
      "source": [
        "tup1 = ('physics', 1997, 'chemistry', 2000); \n",
        "print(tup1)"
      ],
      "execution_count": 0,
      "outputs": [
        {
          "output_type": "stream",
          "text": [
            "('physics', 1997, 'chemistry', 2000)\n"
          ],
          "name": "stdout"
        }
      ]
    },
    {
      "cell_type": "code",
      "metadata": {
        "id": "bVgjTZFhgO1y",
        "colab_type": "code",
        "outputId": "7e3bebc5-0928-4c32-8e40-1afe8e82de42",
        "colab": {
          "base_uri": "https://localhost:8080/",
          "height": 35
        }
      },
      "source": [
        "tup2 = (1, 2, 3, 4, 5);\n",
        "print(tup2)"
      ],
      "execution_count": 0,
      "outputs": [
        {
          "output_type": "stream",
          "text": [
            "(1, 2, 3, 4, 5)\n"
          ],
          "name": "stdout"
        }
      ]
    },
    {
      "cell_type": "code",
      "metadata": {
        "id": "KmIIT7MQgO13",
        "colab_type": "code",
        "outputId": "9916f11c-047e-45c9-9fa2-8428b6371ed8",
        "colab": {
          "base_uri": "https://localhost:8080/",
          "height": 35
        }
      },
      "source": [
        "tup3 = \"a\", \"b\", \"c\", \"d\";\n",
        "print(tup3)"
      ],
      "execution_count": 0,
      "outputs": [
        {
          "output_type": "stream",
          "text": [
            "('a', 'b', 'c', 'd')\n"
          ],
          "name": "stdout"
        }
      ]
    },
    {
      "cell_type": "code",
      "metadata": {
        "id": "z0p5vZEGgO16",
        "colab_type": "code",
        "outputId": "c6687179-8d49-4537-db5f-f884f597c1a7",
        "colab": {
          "base_uri": "https://localhost:8080/",
          "height": 35
        }
      },
      "source": [
        "tup4 = 3, 5, 7\n",
        "print(tup4)"
      ],
      "execution_count": 0,
      "outputs": [
        {
          "output_type": "stream",
          "text": [
            "(3, 5, 7)\n"
          ],
          "name": "stdout"
        }
      ]
    },
    {
      "cell_type": "code",
      "metadata": {
        "id": "Tw-cF5RLgO1-",
        "colab_type": "code",
        "outputId": "86131f1b-b64b-44b3-ea47-dd900c1ef28a",
        "colab": {
          "base_uri": "https://localhost:8080/",
          "height": 35
        }
      },
      "source": [
        "# The empty tuple is written as two parentheses containing nothing\n",
        "tup1 = ();\n",
        "print(tup1)"
      ],
      "execution_count": 0,
      "outputs": [
        {
          "output_type": "stream",
          "text": [
            "()\n"
          ],
          "name": "stdout"
        }
      ]
    },
    {
      "cell_type": "code",
      "metadata": {
        "id": "f-uuRfIpgO2G",
        "colab_type": "code",
        "outputId": "826f71d8-9aca-4f1a-ed03-c285407dadb9",
        "colab": {
          "base_uri": "https://localhost:8080/",
          "height": 35
        }
      },
      "source": [
        "# To write a tuple containing a single value you have to include a comma,\n",
        "tup1 = (50,);\n",
        "print(tup1)"
      ],
      "execution_count": 0,
      "outputs": [
        {
          "output_type": "stream",
          "text": [
            "(50,)\n"
          ],
          "name": "stdout"
        }
      ]
    },
    {
      "cell_type": "code",
      "metadata": {
        "id": "-To5ShBygO2N",
        "colab_type": "code",
        "outputId": "7c4c06cb-d478-4efa-978d-a1baa74f6a86",
        "colab": {
          "base_uri": "https://localhost:8080/",
          "height": 35
        }
      },
      "source": [
        "tup1a = 50,\n",
        "print(tup1a)"
      ],
      "execution_count": 0,
      "outputs": [
        {
          "output_type": "stream",
          "text": [
            "(50,)\n"
          ],
          "name": "stdout"
        }
      ]
    },
    {
      "cell_type": "code",
      "metadata": {
        "id": "1AAhbezfgO2U",
        "colab_type": "code",
        "outputId": "e4d5270f-3f01-4613-8ae8-0c341acb1e63",
        "colab": {
          "base_uri": "https://localhost:8080/",
          "height": 35
        }
      },
      "source": [
        "# Accessing Values in Tuples\n",
        "print(\"tup1[0]: \", tup1[0])"
      ],
      "execution_count": 0,
      "outputs": [
        {
          "output_type": "stream",
          "text": [
            "tup1[0]:  50\n"
          ],
          "name": "stdout"
        }
      ]
    },
    {
      "cell_type": "code",
      "metadata": {
        "id": "-e0sR_fBgO2Z",
        "colab_type": "code",
        "colab": {}
      },
      "source": [
        "#tup1[0]=5 #tuples are immutable, they cannot be changed"
      ],
      "execution_count": 0,
      "outputs": []
    },
    {
      "cell_type": "code",
      "metadata": {
        "id": "-iQ4Ev8HgO2d",
        "colab_type": "code",
        "outputId": "4c02e7ba-6d5b-480b-9d90-58835f0505b8",
        "colab": {
          "base_uri": "https://localhost:8080/",
          "height": 35
        }
      },
      "source": [
        "print(\"tup2[1:5]: \", tup2[1:5])"
      ],
      "execution_count": 0,
      "outputs": [
        {
          "output_type": "stream",
          "text": [
            "tup2[1:5]:  (2, 3, 4, 5)\n"
          ],
          "name": "stdout"
        }
      ]
    },
    {
      "cell_type": "code",
      "metadata": {
        "id": "UJrK7VOXgO2h",
        "colab_type": "code",
        "outputId": "04bacc06-a773-43ea-8338-56eb157c9e0b",
        "colab": {
          "base_uri": "https://localhost:8080/",
          "height": 35
        }
      },
      "source": [
        "# Updating Tuples, create a new tuple as follows\n",
        "tup3 = tup1 + tup2\n",
        "print(tup3)"
      ],
      "execution_count": 0,
      "outputs": [
        {
          "output_type": "stream",
          "text": [
            "(50, 1, 2, 3, 4, 5)\n"
          ],
          "name": "stdout"
        }
      ]
    },
    {
      "cell_type": "code",
      "metadata": {
        "id": "j5bH2ZrvgO2m",
        "colab_type": "code",
        "outputId": "d6ffd8c5-5a81-4d97-cae5-3c4d344d6e0f",
        "colab": {
          "base_uri": "https://localhost:8080/",
          "height": 35
        }
      },
      "source": [
        "# delete tuple elements\n",
        "print(\"Deleting tup3 : \")\n",
        "del tup3;\n",
        "#print(tup3) # this will reture an error"
      ],
      "execution_count": 0,
      "outputs": [
        {
          "output_type": "stream",
          "text": [
            "Deleting tup3 : \n"
          ],
          "name": "stdout"
        }
      ]
    },
    {
      "cell_type": "markdown",
      "metadata": {
        "id": "nmJz3GbzgO2p",
        "colab_type": "text"
      },
      "source": [
        "# Numpy Overview\n",
        "- NumPy (Numeric Python) is the fundamental package for scientific computing in Python.\n",
        "- It is a Python library that provides a multidimensional array object, various derived objects (such as masked arrays and matrices)\n",
        "- An assortment of routines for fast operations on arrays, including mathematical, logical, shape manipulation, sorting, selecting, I/O, discrete Fourier transforms, basic linear algebra, basic statistical operations, random simulation and much more.\n",
        "- In short , NumPy package provides basic routines for manipulating large arrays and matrices of numeric data. "
      ]
    },
    {
      "cell_type": "markdown",
      "metadata": {
        "id": "pQKjLrqxgO2q",
        "colab_type": "text"
      },
      "source": [
        "# Simple array math using np.array.\n",
        "* Note that NumPy array starts its index from 0, end at N-1 (C-style)"
      ]
    },
    {
      "cell_type": "code",
      "metadata": {
        "id": "V1aie9_kgO2r",
        "colab_type": "code",
        "colab": {}
      },
      "source": [
        "import numpy as np # an alias for the namespace\n",
        "a = np.array([1,2,3])\n",
        "b = np.array([4,5,6])"
      ],
      "execution_count": 0,
      "outputs": []
    },
    {
      "cell_type": "code",
      "metadata": {
        "id": "EXkhrEOLgO2u",
        "colab_type": "code",
        "outputId": "7d306e98-3a0b-43ae-c164-d2895bfe7d92",
        "colab": {
          "base_uri": "https://localhost:8080/",
          "height": 35
        }
      },
      "source": [
        "print(a)"
      ],
      "execution_count": 0,
      "outputs": [
        {
          "output_type": "stream",
          "text": [
            "[1 2 3]\n"
          ],
          "name": "stdout"
        }
      ]
    },
    {
      "cell_type": "code",
      "metadata": {
        "id": "nKV9_tulgO2x",
        "colab_type": "code",
        "outputId": "2874cfa8-3a07-451e-b4ef-2fe4fd941362",
        "colab": {
          "base_uri": "https://localhost:8080/",
          "height": 35
        }
      },
      "source": [
        "print(b)"
      ],
      "execution_count": 0,
      "outputs": [
        {
          "output_type": "stream",
          "text": [
            "[4 5 6]\n"
          ],
          "name": "stdout"
        }
      ]
    },
    {
      "cell_type": "code",
      "metadata": {
        "id": "aVHqCV03gO23",
        "colab_type": "code",
        "outputId": "7c0caf7f-fc2b-48f0-b299-58e6e5231326",
        "colab": {
          "base_uri": "https://localhost:8080/",
          "height": 35
        }
      },
      "source": [
        "print(a+b)"
      ],
      "execution_count": 0,
      "outputs": [
        {
          "output_type": "stream",
          "text": [
            "[5 7 9]\n"
          ],
          "name": "stdout"
        }
      ]
    },
    {
      "cell_type": "code",
      "metadata": {
        "id": "lHcPCc3ygO29",
        "colab_type": "code",
        "outputId": "85dd7f5c-a567-4ccf-c0a2-63096c5bc1b0",
        "colab": {
          "base_uri": "https://localhost:8080/",
          "height": 35
        }
      },
      "source": [
        "print(a*b)"
      ],
      "execution_count": 0,
      "outputs": [
        {
          "output_type": "stream",
          "text": [
            "[ 4 10 18]\n"
          ],
          "name": "stdout"
        }
      ]
    },
    {
      "cell_type": "code",
      "metadata": {
        "id": "w28wlRt1gO3C",
        "colab_type": "code",
        "outputId": "0e19dd0b-ffd6-4169-8377-7979620f95dc",
        "colab": {
          "base_uri": "https://localhost:8080/",
          "height": 35
        }
      },
      "source": [
        "print(a ** b)"
      ],
      "execution_count": 0,
      "outputs": [
        {
          "output_type": "stream",
          "text": [
            "[  1  32 729]\n"
          ],
          "name": "stdout"
        }
      ]
    },
    {
      "cell_type": "markdown",
      "metadata": {
        "id": "gMXQar19gO3G",
        "colab_type": "text"
      },
      "source": [
        "* Setting Array Element Values"
      ]
    },
    {
      "cell_type": "code",
      "metadata": {
        "id": "2LIyxH3dgO3G",
        "colab_type": "code",
        "outputId": "ffa21284-abf2-40ee-b652-d32d1348213f",
        "colab": {
          "base_uri": "https://localhost:8080/",
          "height": 35
        }
      },
      "source": [
        "a[0]=11\n",
        "print(a)"
      ],
      "execution_count": 0,
      "outputs": [
        {
          "output_type": "stream",
          "text": [
            "[11  2  3]\n"
          ],
          "name": "stdout"
        }
      ]
    },
    {
      "cell_type": "code",
      "metadata": {
        "id": "3TUrfRetgO3K",
        "colab_type": "code",
        "outputId": "c451f165-b24f-48bc-f6b4-aca4d14d1415",
        "colab": {
          "base_uri": "https://localhost:8080/",
          "height": 35
        }
      },
      "source": [
        "a.fill(0) # set all values in the array with 0\n",
        "print(a)"
      ],
      "execution_count": 0,
      "outputs": [
        {
          "output_type": "stream",
          "text": [
            "[0 0 0]\n"
          ],
          "name": "stdout"
        }
      ]
    },
    {
      "cell_type": "code",
      "metadata": {
        "id": "A7fm17ocgO3O",
        "colab_type": "code",
        "colab": {}
      },
      "source": [
        "a[:]=1 # why we need to use [:]?"
      ],
      "execution_count": 0,
      "outputs": []
    },
    {
      "cell_type": "code",
      "metadata": {
        "id": "vHnW8gihgO3R",
        "colab_type": "code",
        "outputId": "6ae309ae-d6b1-475e-9cab-a13f0d5e1a6e",
        "colab": {
          "base_uri": "https://localhost:8080/",
          "height": 52
        }
      },
      "source": [
        "print(a)\n",
        "print(a.dtype) # note that a is still int64 type !"
      ],
      "execution_count": 0,
      "outputs": [
        {
          "output_type": "stream",
          "text": [
            "[1 1 1]\n",
            "int64\n"
          ],
          "name": "stdout"
        }
      ]
    },
    {
      "cell_type": "code",
      "metadata": {
        "id": "a7mz0so8gO3X",
        "colab_type": "code",
        "outputId": "7efc2470-bf54-40a0-d1a2-a7019c80ff9b",
        "colab": {
          "base_uri": "https://localhost:8080/",
          "height": 35
        }
      },
      "source": [
        "a[0]=10.6 # decimal parts are truncated, be careful!\n",
        "print(a)"
      ],
      "execution_count": 0,
      "outputs": [
        {
          "output_type": "stream",
          "text": [
            "[10  1  1]\n"
          ],
          "name": "stdout"
        }
      ]
    },
    {
      "cell_type": "code",
      "metadata": {
        "id": "1w8xnA7EgO3b",
        "colab_type": "code",
        "outputId": "72af437e-34f3-4c05-9f38-de70f6bffeb7",
        "colab": {
          "base_uri": "https://localhost:8080/",
          "height": 35
        }
      },
      "source": [
        "a.fill(-3.7) # fill() will have the same behavior\n",
        "print(a)"
      ],
      "execution_count": 0,
      "outputs": [
        {
          "output_type": "stream",
          "text": [
            "[-3 -3 -3]\n"
          ],
          "name": "stdout"
        }
      ]
    },
    {
      "cell_type": "markdown",
      "metadata": {
        "id": "lohjScE1gO3g",
        "colab_type": "text"
      },
      "source": [
        "#### Create floating value arrays"
      ]
    },
    {
      "cell_type": "code",
      "metadata": {
        "id": "j31EKbhYgO3h",
        "colab_type": "code",
        "outputId": "482a8000-76fe-4273-c2de-5cd97735cc1e",
        "colab": {
          "base_uri": "https://localhost:8080/",
          "height": 35
        }
      },
      "source": [
        "a = np.array([1,2,3.1])\n",
        "print(a)"
      ],
      "execution_count": 0,
      "outputs": [
        {
          "output_type": "stream",
          "text": [
            "[1.  2.  3.1]\n"
          ],
          "name": "stdout"
        }
      ]
    },
    {
      "cell_type": "code",
      "metadata": {
        "id": "yZcoMcUEgO3k",
        "colab_type": "code",
        "outputId": "139f2a6a-cda4-4bf7-d4b3-fffb5bc49b18",
        "colab": {
          "base_uri": "https://localhost:8080/",
          "height": 35
        }
      },
      "source": [
        "a = np.array([1,2,3],dtype=float)\n",
        "print(a)"
      ],
      "execution_count": 0,
      "outputs": [
        {
          "output_type": "stream",
          "text": [
            "[1. 2. 3.]\n"
          ],
          "name": "stdout"
        }
      ]
    },
    {
      "cell_type": "code",
      "metadata": {
        "id": "cnkCv0_fgO3p",
        "colab_type": "code",
        "outputId": "510ac66d-ff50-4302-b6d6-67cb6b9179d7",
        "colab": {
          "base_uri": "https://localhost:8080/",
          "height": 35
        }
      },
      "source": [
        "a = np.array([1,2,3]).astype(float)\n",
        "print(a)"
      ],
      "execution_count": 0,
      "outputs": [
        {
          "output_type": "stream",
          "text": [
            "[1. 2. 3.]\n"
          ],
          "name": "stdout"
        }
      ]
    },
    {
      "cell_type": "markdown",
      "metadata": {
        "id": "J11afn09gO3t",
        "colab_type": "text"
      },
      "source": [
        "* #### Numpy Array Properties"
      ]
    },
    {
      "cell_type": "code",
      "metadata": {
        "id": "_YbsVuI-gO3u",
        "colab_type": "code",
        "outputId": "45cdc216-fa66-49b5-e483-5ca75af3d839",
        "colab": {
          "base_uri": "https://localhost:8080/",
          "height": 52
        }
      },
      "source": [
        "a = np.array([0,1,2,3]) # create a from a list\n",
        "print(a)\n",
        "# create evenly spaced values within [start, stop)\n",
        "a = np.arange(0,5)\n",
        "print(a)"
      ],
      "execution_count": 0,
      "outputs": [
        {
          "output_type": "stream",
          "text": [
            "[0 1 2 3]\n",
            "[0 1 2 3 4]\n"
          ],
          "name": "stdout"
        }
      ]
    },
    {
      "cell_type": "code",
      "metadata": {
        "id": "Lly-UWHvgO3w",
        "colab_type": "code",
        "outputId": "cf989666-d27f-454c-8b35-8de61db6cae7",
        "colab": {
          "base_uri": "https://localhost:8080/",
          "height": 35
        }
      },
      "source": [
        "a = np.arange(4)\n",
        "print(a)"
      ],
      "execution_count": 0,
      "outputs": [
        {
          "output_type": "stream",
          "text": [
            "[0 1 2 3]\n"
          ],
          "name": "stdout"
        }
      ]
    },
    {
      "cell_type": "code",
      "metadata": {
        "id": "K-Ax2NGDgO32",
        "colab_type": "code",
        "outputId": "d6e1290c-9f00-4da7-d2c7-ab53c26dacf2",
        "colab": {
          "base_uri": "https://localhost:8080/",
          "height": 35
        }
      },
      "source": [
        "print(type(a))"
      ],
      "execution_count": 0,
      "outputs": [
        {
          "output_type": "stream",
          "text": [
            "<class 'numpy.ndarray'>\n"
          ],
          "name": "stdout"
        }
      ]
    },
    {
      "cell_type": "code",
      "metadata": {
        "id": "XWoqGKgJgO37",
        "colab_type": "code",
        "outputId": "4263aac1-7342-473c-c39c-fbb1e1a367df",
        "colab": {
          "base_uri": "https://localhost:8080/",
          "height": 52
        }
      },
      "source": [
        "print(a.dtype)\n",
        "# shape returns a tuple listing the length of the array\n",
        "print(a.shape) # or np.shape(a)"
      ],
      "execution_count": 0,
      "outputs": [
        {
          "output_type": "stream",
          "text": [
            "int64\n",
            "(4,)\n"
          ],
          "name": "stdout"
        }
      ]
    },
    {
      "cell_type": "markdown",
      "metadata": {
        "id": "wdZzCWTQgO3_",
        "colab_type": "text"
      },
      "source": [
        "#### Note the data type"
      ]
    },
    {
      "cell_type": "code",
      "metadata": {
        "id": "DJp4GOeggO4B",
        "colab_type": "code",
        "outputId": "ba710e93-e90c-44e1-ec50-447ce358920e",
        "colab": {
          "base_uri": "https://localhost:8080/",
          "height": 35
        }
      },
      "source": [
        "a = np.arange(4,dtype=float)\n",
        "print(a)"
      ],
      "execution_count": 0,
      "outputs": [
        {
          "output_type": "stream",
          "text": [
            "[0. 1. 2. 3.]\n"
          ],
          "name": "stdout"
        }
      ]
    },
    {
      "cell_type": "code",
      "metadata": {
        "id": "MkWjAiiygO4F",
        "colab_type": "code",
        "outputId": "84292678-fc4e-4f32-a1d2-890c708c71a7",
        "colab": {
          "base_uri": "https://localhost:8080/",
          "height": 69
        }
      },
      "source": [
        "print(type(a))\n",
        "print(a.dtype)\n",
        "print(a.shape) # or np.shape(a)"
      ],
      "execution_count": 0,
      "outputs": [
        {
          "output_type": "stream",
          "text": [
            "<class 'numpy.ndarray'>\n",
            "float64\n",
            "(4,)\n"
          ],
          "name": "stdout"
        }
      ]
    },
    {
      "cell_type": "code",
      "metadata": {
        "id": "kdwYTiwngO4K",
        "colab_type": "code",
        "outputId": "a4cf4a5f-afcf-4331-fc7d-727c7b10385a",
        "colab": {
          "base_uri": "https://localhost:8080/",
          "height": 52
        }
      },
      "source": [
        "print(a.size) # or np.size(a), return the total number of elements\n",
        "# return the number of dimensions of the array\n",
        "print(a.ndim)"
      ],
      "execution_count": 0,
      "outputs": [
        {
          "output_type": "stream",
          "text": [
            "4\n",
            "1\n"
          ],
          "name": "stdout"
        }
      ]
    },
    {
      "cell_type": "markdown",
      "metadata": {
        "id": "aGpCaj6ZgO4N",
        "colab_type": "text"
      },
      "source": [
        "* #### Numpy Array Creation Functions\n",
        "- Numpy's arange is nearly identical to Python’s `range()`. Creates an array of values in the range [start,stop,step) with the specified step value. Allows non-integer values for start, stop, and step. Default dtype is derived from the start, stop, and step values"
      ]
    },
    {
      "cell_type": "code",
      "metadata": {
        "id": "w3UfCIHLgO4O",
        "colab_type": "code",
        "outputId": "ce44e089-2e98-46e7-c968-bd9728e1bae2",
        "colab": {
          "base_uri": "https://localhost:8080/",
          "height": 35
        }
      },
      "source": [
        "a = np.arange(4)\n",
        "print(a)"
      ],
      "execution_count": 0,
      "outputs": [
        {
          "output_type": "stream",
          "text": [
            "[0 1 2 3]\n"
          ],
          "name": "stdout"
        }
      ]
    },
    {
      "cell_type": "code",
      "metadata": {
        "id": "hgg-Hj8egO4S",
        "colab_type": "code",
        "outputId": "720501a8-edb7-4123-839c-ba84ab4bc5f4",
        "colab": {
          "base_uri": "https://localhost:8080/",
          "height": 35
        }
      },
      "source": [
        "a = np.arange(1.5,2.4,0.3)\n",
        "print(a)"
      ],
      "execution_count": 0,
      "outputs": [
        {
          "output_type": "stream",
          "text": [
            "[1.5 1.8 2.1]\n"
          ],
          "name": "stdout"
        }
      ]
    },
    {
      "cell_type": "code",
      "metadata": {
        "id": "5q0M64XMgO4V",
        "colab_type": "code",
        "outputId": "72bf5d47-07c2-4d28-ee89-d694aa03f4ad",
        "colab": {
          "base_uri": "https://localhost:8080/",
          "height": 52
        }
      },
      "source": [
        "a = np.arange(0, 2*np.pi, np.pi/4)\n",
        "print(a)"
      ],
      "execution_count": 0,
      "outputs": [
        {
          "output_type": "stream",
          "text": [
            "[0.         0.78539816 1.57079633 2.35619449 3.14159265 3.92699082\n",
            " 4.71238898 5.49778714]\n"
          ],
          "name": "stdout"
        }
      ]
    },
    {
      "cell_type": "code",
      "metadata": {
        "id": "e-dT1abKgO4Z",
        "colab_type": "code",
        "outputId": "c78f8965-58d6-4e37-dde3-b1b77bb6e013",
        "colab": {
          "base_uri": "https://localhost:8080/",
          "height": 69
        }
      },
      "source": [
        "a = np.ones((2,3)) # need to supply tuple as shape of the array!\n",
        "print(a)\n",
        "print(a.dtype)"
      ],
      "execution_count": 0,
      "outputs": [
        {
          "output_type": "stream",
          "text": [
            "[[1. 1. 1.]\n",
            " [1. 1. 1.]]\n",
            "float64\n"
          ],
          "name": "stdout"
        }
      ]
    },
    {
      "cell_type": "code",
      "metadata": {
        "id": "xnwf3TDvgO4c",
        "colab_type": "code",
        "outputId": "12c5259c-5814-45f8-a78d-c3aec95b1b8d",
        "colab": {
          "base_uri": "https://localhost:8080/",
          "height": 87
        }
      },
      "source": [
        "a = np.zeros((3,3)) # need to supply tuple as shape of the array!\n",
        "print(a)\n",
        "print(a.dtype)"
      ],
      "execution_count": 0,
      "outputs": [
        {
          "output_type": "stream",
          "text": [
            "[[0. 0. 0.]\n",
            " [0. 0. 0.]\n",
            " [0. 0. 0.]]\n",
            "float64\n"
          ],
          "name": "stdout"
        }
      ]
    },
    {
      "cell_type": "markdown",
      "metadata": {
        "id": "VSkLFP1vgO4k",
        "colab_type": "text"
      },
      "source": [
        "* #### Useful initial value creation"
      ]
    },
    {
      "cell_type": "code",
      "metadata": {
        "id": "dYwcuTC6gO4l",
        "colab_type": "code",
        "outputId": "e38b90e4-54f3-414c-80af-6785dfe57f69",
        "colab": {
          "base_uri": "https://localhost:8080/",
          "height": 87
        }
      },
      "source": [
        "a = np.identity(4)\n",
        "print(a)"
      ],
      "execution_count": 0,
      "outputs": [
        {
          "output_type": "stream",
          "text": [
            "[[1. 0. 0. 0.]\n",
            " [0. 1. 0. 0.]\n",
            " [0. 0. 1. 0.]\n",
            " [0. 0. 0. 1.]]\n"
          ],
          "name": "stdout"
        }
      ]
    },
    {
      "cell_type": "code",
      "metadata": {
        "id": "XvTlWmiegO4q",
        "colab_type": "code",
        "outputId": "b0ec0e57-f219-461c-f656-6857c86547e7",
        "colab": {
          "base_uri": "https://localhost:8080/",
          "height": 104
        }
      },
      "source": [
        "a = np.eye(4,dtype=int)\n",
        "print(a)\n",
        "print(a.dtype)"
      ],
      "execution_count": 0,
      "outputs": [
        {
          "output_type": "stream",
          "text": [
            "[[1 0 0 0]\n",
            " [0 1 0 0]\n",
            " [0 0 1 0]\n",
            " [0 0 0 1]]\n",
            "int64\n"
          ],
          "name": "stdout"
        }
      ]
    },
    {
      "cell_type": "code",
      "metadata": {
        "id": "W8cTdgUHgO4s",
        "colab_type": "code",
        "outputId": "93cede4a-0d08-4436-9d31-9572012e5d43",
        "colab": {
          "base_uri": "https://localhost:8080/",
          "height": 69
        }
      },
      "source": [
        "a = np.empty(2)\n",
        "print(a)\n",
        "a.fill(5.0)\n",
        "print(a)\n",
        "a[:] = 4.0\n",
        "print(a)"
      ],
      "execution_count": 0,
      "outputs": [
        {
          "output_type": "stream",
          "text": [
            "[5.43230922e-312 7.29112202e-304]\n",
            "[5. 5.]\n",
            "[4. 4.]\n"
          ],
          "name": "stdout"
        }
      ]
    },
    {
      "cell_type": "markdown",
      "metadata": {
        "id": "C1Tr-DSdgO4w",
        "colab_type": "text"
      },
      "source": [
        "* #### `numpy.linspace(start, stop, num=50, endpoint=True, retstep=False, dtype=None)`\n",
        "Return evenly spaced numbers over a specified interval."
      ]
    },
    {
      "cell_type": "code",
      "metadata": {
        "id": "6YZfMKM5gO4y",
        "colab_type": "code",
        "outputId": "0797650b-1a18-49f3-9dea-86e978002b8f",
        "colab": {
          "base_uri": "https://localhost:8080/",
          "height": 35
        }
      },
      "source": [
        "a = np.linspace(0,1,5)\n",
        "print(a)"
      ],
      "execution_count": 0,
      "outputs": [
        {
          "output_type": "stream",
          "text": [
            "[0.   0.25 0.5  0.75 1.  ]\n"
          ],
          "name": "stdout"
        }
      ]
    },
    {
      "cell_type": "markdown",
      "metadata": {
        "id": "SaKt7UShgO42",
        "colab_type": "text"
      },
      "source": [
        "* #### `numpy.logspace(start, stop, num=50, endpoint=True, base=10.0, dtype=None)`\n",
        "\n",
        "Return numbers spaced evenly on a log scale.\n",
        "\n",
        "In linear space, the sequence starts at base ** start (base to the power of start) and ends with base ** stop (see endpoint below)."
      ]
    },
    {
      "cell_type": "code",
      "metadata": {
        "id": "Ve7NNc1bgO44",
        "colab_type": "code",
        "outputId": "e28e2231-2d80-47a3-c72e-c6a66e1550b8",
        "colab": {
          "base_uri": "https://localhost:8080/",
          "height": 35
        }
      },
      "source": [
        "#import matplotlib.pyplot as plt\n",
        "a = np.logspace(0,1,5)\n",
        "print(a)\n",
        "#plt.plot(a,'r-s')\n",
        "#plt.plot(np.log(a),'b-s')"
      ],
      "execution_count": 0,
      "outputs": [
        {
          "output_type": "stream",
          "text": [
            "[ 1.          1.77827941  3.16227766  5.62341325 10.        ]\n"
          ],
          "name": "stdout"
        }
      ]
    },
    {
      "cell_type": "code",
      "metadata": {
        "id": "Gs4mmAP3gO49",
        "colab_type": "code",
        "outputId": "e47c8d9f-0897-42ab-ab00-5ebe71cdc33f",
        "colab": {
          "base_uri": "https://localhost:8080/",
          "height": 35
        }
      },
      "source": [
        "a = np.logspace(2.0, 3.0, num=4, base=2.0)\n",
        "print(a)"
      ],
      "execution_count": 0,
      "outputs": [
        {
          "output_type": "stream",
          "text": [
            "[4.         5.0396842  6.34960421 8.        ]\n"
          ],
          "name": "stdout"
        }
      ]
    },
    {
      "cell_type": "markdown",
      "metadata": {
        "id": "mm5LuQ2IgO5A",
        "colab_type": "text"
      },
      "source": [
        "* #### Array from/to ASCII files\n",
        "use loadtxt\n",
        "\n",
        "`data.txt`<br>\n",
        "  `Index`<br>\n",
        "`Brain Weight`<br>\n",
        "`Body Weight`<br>\n",
        "`#here is the training set`<br>\n",
        "`1 3.385 44.500 abjhk`<br>\n",
        "`2 0.480 33.38 bc_00asdk`<br>\n",
        "`...`<br>\n",
        "`#here is the cross validation set`<br>\n",
        "`6 27.660 115.000 rk`<br>\n",
        "`7 14.830 98.200 fff`<br>\n",
        "`...`<br>\n",
        "`9 4.190 58.000 kij`<br>"
      ]
    },
    {
      "cell_type": "code",
      "metadata": {
        "id": "C4oJxgbu4WI_",
        "colab_type": "code",
        "outputId": "b4e533e2-2a32-4921-c4ac-8c7eee4ed419",
        "colab": {
          "base_uri": "https://localhost:8080/",
          "height": 676
        }
      },
      "source": [
        "# download the file to local virtual machine\n",
        "! if [ ! -f \"data.txt\" ]; then wget 'https://raw.githubusercontent.com/lsuhpchelp/lbrnloniworkshop2019/master/day2_python/data.txt'; else echo 'file exists'; fi;\n",
        "! cat data.txt"
      ],
      "execution_count": 0,
      "outputs": [
        {
          "output_type": "stream",
          "text": [
            "--2019-05-28 04:14:13--  https://raw.githubusercontent.com/lsuhpchelp/lbrnloniworkshop2019/master/day2_python/data.txt\n",
            "Resolving raw.githubusercontent.com (raw.githubusercontent.com)... 151.101.0.133, 151.101.64.133, 151.101.128.133, ...\n",
            "Connecting to raw.githubusercontent.com (raw.githubusercontent.com)|151.101.0.133|:443... connected.\n",
            "HTTP request sent, awaiting response... 200 OK\n",
            "Length: 630 [text/plain]\n",
            "Saving to: ‘data.txt’\n",
            "\n",
            "\rdata.txt              0%[                    ]       0  --.-KB/s               \rdata.txt            100%[===================>]     630  --.-KB/s    in 0s      \n",
            "\n",
            "2019-05-28 04:14:13 (63.8 MB/s) - ‘data.txt’ saved [630/630]\n",
            "\n",
            "#  x01.txt\n",
            "#    Academic Press, 1991, page 304,\n",
            "#    ISBN 0-12-656460-4.\n",
            "#    There are 62 rows of data.  The 3 data columns include:\n",
            "#      I,  the index,\n",
            "#      A1, the brain weight;\n",
            "#      B,  the body weight.\n",
            "#    We seek a model of the form:\n",
            "#\n",
            "#      B = A1 * X1.\n",
            "#\n",
            "3 columns\n",
            "62 rows\n",
            "Index\n",
            "Brain Weight\n",
            "Body Weight\n",
            "# here is the training set\n",
            " 1     3.385    44.500 abjhk\n",
            " 2     0.480    33.38  bc_00asdk\n",
            " 3     1.350     8.100 fb\n",
            " 4   465.000   423.000 cer\n",
            " 5    36.330   119.500 rg\n",
            "# here is the cross validation set\n",
            " 6    27.660   115.000 rk\n",
            " 7    14.830    98.200 fff\n",
            " 8     1.040     5.500 zxs\n",
            " 9     4.190    58.000 kij\n"
          ],
          "name": "stdout"
        }
      ]
    },
    {
      "cell_type": "code",
      "metadata": {
        "id": "Q9cCgPodgO5B",
        "colab_type": "code",
        "outputId": "71ea495f-6a87-45ef-8cde-7290fdf4d963",
        "colab": {
          "base_uri": "https://localhost:8080/",
          "height": 173
        }
      },
      "source": [
        "# np.loadtxt can directly load a txt from a URL\n",
        "#weburl = 'https://raw.githubusercontent.com/lsuhpchelp/lbrnloniworkshop2019/master/day2_python/'\n",
        "#txtfile = weburl + 'data.txt'\n",
        "\n",
        "# we will use the file locally on the virtual machine\n",
        "txtfile = 'data.txt'\n",
        "a = np.loadtxt(txtfile,skiprows=16,usecols={0,1,2},dtype=None,comments=\"#\")\n",
        "print(a)"
      ],
      "execution_count": 0,
      "outputs": [
        {
          "output_type": "stream",
          "text": [
            "[[  1.      3.385  44.5  ]\n",
            " [  2.      0.48   33.38 ]\n",
            " [  3.      1.35    8.1  ]\n",
            " [  4.    465.    423.   ]\n",
            " [  5.     36.33  119.5  ]\n",
            " [  6.     27.66  115.   ]\n",
            " [  7.     14.83   98.2  ]\n",
            " [  8.      1.04    5.5  ]\n",
            " [  9.      4.19   58.   ]]\n"
          ],
          "name": "stdout"
        }
      ]
    },
    {
      "cell_type": "markdown",
      "metadata": {
        "id": "lkLGKSGAgO5E",
        "colab_type": "text"
      },
      "source": [
        "Using genfromtxt"
      ]
    },
    {
      "cell_type": "code",
      "metadata": {
        "id": "0L0kk4cAgO5E",
        "colab_type": "code",
        "outputId": "2455f830-e6c8-4076-d13d-0902d8facfee",
        "colab": {
          "base_uri": "https://localhost:8080/",
          "height": 104
        }
      },
      "source": [
        "# np.genfromtxt can guess the actual type of your columns by using dtype=None\n",
        "a = np.genfromtxt(txtfile,skip_header=16,dtype=None,encoding='ascii')\n",
        "print(a)"
      ],
      "execution_count": 0,
      "outputs": [
        {
          "output_type": "stream",
          "text": [
            "[(1,   3.385,  44.5 , 'abjhk') (2,   0.48 ,  33.38, 'bc_00asdk')\n",
            " (3,   1.35 ,   8.1 , 'fb') (4, 465.   , 423.  , 'cer')\n",
            " (5,  36.33 , 119.5 , 'rg') (6,  27.66 , 115.  , 'rk')\n",
            " (7,  14.83 ,  98.2 , 'fff') (8,   1.04 ,   5.5 , 'zxs')\n",
            " (9,   4.19 ,  58.  , 'kij')]\n"
          ],
          "name": "stdout"
        }
      ]
    },
    {
      "cell_type": "markdown",
      "metadata": {
        "id": "fcvqZtyvgO5G",
        "colab_type": "text"
      },
      "source": [
        "* #### Reshaping Arrays"
      ]
    },
    {
      "cell_type": "code",
      "metadata": {
        "id": "ZbX0ZeFJgO5H",
        "colab_type": "code",
        "outputId": "a6b27281-0aa6-4702-9ffb-aafc824788de",
        "colab": {
          "base_uri": "https://localhost:8080/",
          "height": 52
        }
      },
      "source": [
        "a = np.arange(6)\n",
        "print(a)\n",
        "print(a.shape)"
      ],
      "execution_count": 0,
      "outputs": [
        {
          "output_type": "stream",
          "text": [
            "[0 1 2 3 4 5]\n",
            "(6,)\n"
          ],
          "name": "stdout"
        }
      ]
    },
    {
      "cell_type": "code",
      "metadata": {
        "id": "lEkbEGgrgO5O",
        "colab_type": "code",
        "outputId": "dff26ee2-464a-4e92-f546-72bdedea5de2",
        "colab": {
          "base_uri": "https://localhost:8080/",
          "height": 52
        }
      },
      "source": [
        "a.shape = (2,3) # reshape array to 2x3\n",
        "print(a)"
      ],
      "execution_count": 0,
      "outputs": [
        {
          "output_type": "stream",
          "text": [
            "[[0 1 2]\n",
            " [3 4 5]]\n"
          ],
          "name": "stdout"
        }
      ]
    },
    {
      "cell_type": "code",
      "metadata": {
        "id": "LgDfr66kgO5R",
        "colab_type": "code",
        "outputId": "9ecc5b05-dcac-4b87-e334-2126e335ff22",
        "colab": {
          "base_uri": "https://localhost:8080/",
          "height": 69
        }
      },
      "source": [
        "a = a.reshape(3,2) # reshape array to 3x2\n",
        "print(a)\n",
        "# a.reshape(2,5) # cannot change the number of elements in the array\n",
        "# Traceback (most recent call last):\n",
        "# File \"<stdin>\", line 1, in <module>\n",
        "# ValueError: total size of new array must be unchanged"
      ],
      "execution_count": 0,
      "outputs": [
        {
          "output_type": "stream",
          "text": [
            "[[0 1]\n",
            " [2 3]\n",
            " [4 5]]\n"
          ],
          "name": "stdout"
        }
      ]
    },
    {
      "cell_type": "code",
      "metadata": {
        "id": "buIQknvjgO5U",
        "colab_type": "code",
        "outputId": "a8312f3a-9092-48df-aa67-9ae3623d57a1",
        "colab": {
          "base_uri": "https://localhost:8080/",
          "height": 52
        }
      },
      "source": [
        "a = a.reshape(2,-1) # numpy determines the last dimension\n",
        "print(a)"
      ],
      "execution_count": 0,
      "outputs": [
        {
          "output_type": "stream",
          "text": [
            "[[0 1 2]\n",
            " [3 4 5]]\n"
          ],
          "name": "stdout"
        }
      ]
    },
    {
      "cell_type": "code",
      "metadata": {
        "id": "RWgISQL2gO5Y",
        "colab_type": "code",
        "outputId": "18c4032d-d597-4eec-8b2e-ecb5e09ac4a2",
        "colab": {
          "base_uri": "https://localhost:8080/",
          "height": 69
        }
      },
      "source": [
        "a = a.reshape(-1,2)\n",
        "print(a)"
      ],
      "execution_count": 0,
      "outputs": [
        {
          "output_type": "stream",
          "text": [
            "[[0 1]\n",
            " [2 3]\n",
            " [4 5]]\n"
          ],
          "name": "stdout"
        }
      ]
    },
    {
      "cell_type": "markdown",
      "metadata": {
        "id": "Q1TXsB6agO5c",
        "colab_type": "text"
      },
      "source": [
        "* #### Flattening Multi-dimensional Arrays"
      ]
    },
    {
      "cell_type": "code",
      "metadata": {
        "id": "Mo0u5KJcgO5c",
        "colab_type": "code",
        "outputId": "5d38ae65-3d26-4493-d8ce-26f4f05b911e",
        "colab": {
          "base_uri": "https://localhost:8080/",
          "height": 69
        }
      },
      "source": [
        "a = np.arange(12).reshape(-1,4)\n",
        "print(a)"
      ],
      "execution_count": 0,
      "outputs": [
        {
          "output_type": "stream",
          "text": [
            "[[ 0  1  2  3]\n",
            " [ 4  5  6  7]\n",
            " [ 8  9 10 11]]\n"
          ],
          "name": "stdout"
        }
      ]
    },
    {
      "cell_type": "code",
      "metadata": {
        "id": "nbHmY0BlgO5f",
        "colab_type": "code",
        "outputId": "eecaa2f1-fc70-4e1b-8b92-f7b712c416be",
        "colab": {
          "base_uri": "https://localhost:8080/",
          "height": 35
        }
      },
      "source": [
        "# a.flatten() converts a multidimensional array into\n",
        "# a 1-D array. The new array is a copy of the original data.\n",
        "b = a.flatten()\n",
        "print(b)"
      ],
      "execution_count": 0,
      "outputs": [
        {
          "output_type": "stream",
          "text": [
            "[ 0  1  2  3  4  5  6  7  8  9 10 11]\n"
          ],
          "name": "stdout"
        }
      ]
    },
    {
      "cell_type": "markdown",
      "metadata": {
        "id": "w6thN8yAgO5i",
        "colab_type": "text"
      },
      "source": [
        "# Numpy is easy and fast!\n",
        "## Rule of thumb: \n",
        "> ### Removing loops using NumPy"
      ]
    },
    {
      "cell_type": "code",
      "metadata": {
        "id": "MxataCyngO5j",
        "colab_type": "code",
        "outputId": "b3622991-b3c1-494c-f4de-ec0e5b7a39e4",
        "colab": {
          "base_uri": "https://localhost:8080/",
          "height": 52
        }
      },
      "source": [
        "# we use the timeit (measure execution time of small code snippets) function \n",
        "a=list(range(100000))\n",
        "result_loop = %timeit -o b = [val+5 for val in a]\n",
        "print(\"best result using for loop: %f sec\" % (result_loop.best,))"
      ],
      "execution_count": 0,
      "outputs": [
        {
          "output_type": "stream",
          "text": [
            "100 loops, best of 3: 8.54 ms per loop\n",
            "best result using for loop: 0.008540 sec\n"
          ],
          "name": "stdout"
        }
      ]
    },
    {
      "cell_type": "code",
      "metadata": {
        "id": "oS-NUVbggO5n",
        "colab_type": "code",
        "outputId": "18a5a118-844e-46f9-e165-88292fda9505",
        "colab": {
          "base_uri": "https://localhost:8080/",
          "height": 69
        }
      },
      "source": [
        "a=np.array(a)\n",
        "result_ufunc = %timeit -o a+5\n",
        "print(\"best result using ufunc: %f sec\" % (result_ufunc.best,))"
      ],
      "execution_count": 0,
      "outputs": [
        {
          "output_type": "stream",
          "text": [
            "The slowest run took 34.38 times longer than the fastest. This could mean that an intermediate result is being cached.\n",
            "10000 loops, best of 3: 131 µs per loop\n",
            "best result using ufunc: 0.000131 sec\n"
          ],
          "name": "stdout"
        }
      ]
    },
    {
      "cell_type": "code",
      "metadata": {
        "id": "yGzmB2uYgO5r",
        "colab_type": "code",
        "outputId": "34908e5f-c29a-424d-d47b-f35eed1a3e59",
        "colab": {
          "base_uri": "https://localhost:8080/",
          "height": 35
        }
      },
      "source": [
        "speedup = result_loop.best/result_ufunc.best\n",
        "print(\"speedup=%.1f times\" % (speedup,))"
      ],
      "execution_count": 0,
      "outputs": [
        {
          "output_type": "stream",
          "text": [
            "speedup=65.0 times\n"
          ],
          "name": "stdout"
        }
      ]
    },
    {
      "cell_type": "markdown",
      "metadata": {
        "id": "Xa4SSwwggO5x",
        "colab_type": "text"
      },
      "source": [
        "# Four Tools in Numpy\n",
        "1. Ufunc (Universal Function)\n",
        "1. Aggregation\n",
        "1. Broadcasting\n",
        "1. Slicing, masking and fancy indexing"
      ]
    },
    {
      "cell_type": "markdown",
      "metadata": {
        "id": "UFekiWAcgO5y",
        "colab_type": "text"
      },
      "source": [
        "### Why Numpy is fast? \n",
        "- Avoid type check overhead\n",
        "- Vectorization (simplified)\n",
        " - The process of rewriting a loop so that instead of processing a single element of an array N times, it processes (say) 4 elements of the array simultaneously N/4 times. \n",
        "- Many of the built-in functions are implemented in compiled C code.\n",
        " - They can be much faster than the code on the Python level"
      ]
    },
    {
      "cell_type": "markdown",
      "metadata": {
        "id": "S-3nui-ZgO5y",
        "colab_type": "text"
      },
      "source": [
        "### Ufunc: Many ufuncs available\n",
        "- Arithmetic Operators: `+ - * / // (floor division) % **`\n",
        "- Bitwise Operators: `& | ~ ^ >> <<`\n",
        "- Comparison Oper’s: `< > <= >= == !=`\n",
        "- Trig Family: `np.sin, np.cos, np.tan ...`\n",
        "- Exponential Family: `np.exp, np.log, np.log10 ...`\n",
        "- Special Functions: `scipy.special.*`\n",
        "- . . . and many, many more."
      ]
    },
    {
      "cell_type": "markdown",
      "metadata": {
        "id": "eSrdmvYzgO5z",
        "colab_type": "text"
      },
      "source": [
        "* #### Demostration of Ufunc"
      ]
    },
    {
      "cell_type": "code",
      "metadata": {
        "id": "kNDGJWq7gO5z",
        "colab_type": "code",
        "outputId": "a8020d32-bdb8-49cd-c9f3-39fe2e608663",
        "colab": {
          "base_uri": "https://localhost:8080/",
          "height": 173
        }
      },
      "source": [
        "x = np.linspace(0,np.pi)\n",
        "print(x)"
      ],
      "execution_count": 0,
      "outputs": [
        {
          "output_type": "stream",
          "text": [
            "[0.         0.06411414 0.12822827 0.19234241 0.25645654 0.32057068\n",
            " 0.38468481 0.44879895 0.51291309 0.57702722 0.64114136 0.70525549\n",
            " 0.76936963 0.83348377 0.8975979  0.96171204 1.02582617 1.08994031\n",
            " 1.15405444 1.21816858 1.28228272 1.34639685 1.41051099 1.47462512\n",
            " 1.53873926 1.60285339 1.66696753 1.73108167 1.7951958  1.85930994\n",
            " 1.92342407 1.98753821 2.05165235 2.11576648 2.17988062 2.24399475\n",
            " 2.30810889 2.37222302 2.43633716 2.5004513  2.56456543 2.62867957\n",
            " 2.6927937  2.75690784 2.82102197 2.88513611 2.94925025 3.01336438\n",
            " 3.07747852 3.14159265]\n"
          ],
          "name": "stdout"
        }
      ]
    },
    {
      "cell_type": "code",
      "metadata": {
        "id": "jyAjdoOTgO52",
        "colab_type": "code",
        "outputId": "9d967939-59a5-41b1-aafa-ad9e09a1baf6",
        "colab": {
          "base_uri": "https://localhost:8080/",
          "height": 173
        }
      },
      "source": [
        "x *= 2\n",
        "print(x)"
      ],
      "execution_count": 0,
      "outputs": [
        {
          "output_type": "stream",
          "text": [
            "[0.         0.12822827 0.25645654 0.38468481 0.51291309 0.64114136\n",
            " 0.76936963 0.8975979  1.02582617 1.15405444 1.28228272 1.41051099\n",
            " 1.53873926 1.66696753 1.7951958  1.92342407 2.05165235 2.17988062\n",
            " 2.30810889 2.43633716 2.56456543 2.6927937  2.82102197 2.94925025\n",
            " 3.07747852 3.20570679 3.33393506 3.46216333 3.5903916  3.71861988\n",
            " 3.84684815 3.97507642 4.10330469 4.23153296 4.35976123 4.48798951\n",
            " 4.61621778 4.74444605 4.87267432 5.00090259 5.12913086 5.25735913\n",
            " 5.38558741 5.51381568 5.64204395 5.77027222 5.89850049 6.02672876\n",
            " 6.15495704 6.28318531]\n"
          ],
          "name": "stdout"
        }
      ]
    },
    {
      "cell_type": "code",
      "metadata": {
        "id": "KmGCJm44gO54",
        "colab_type": "code",
        "outputId": "89994342-29ac-41ff-a1b7-1c32b8e8eac9",
        "colab": {
          "base_uri": "https://localhost:8080/",
          "height": 243
        }
      },
      "source": [
        "y = np.sin(x)\n",
        "print(y)"
      ],
      "execution_count": 0,
      "outputs": [
        {
          "output_type": "stream",
          "text": [
            "[ 0.00000000e+00  1.27877162e-01  2.53654584e-01  3.75267005e-01\n",
            "  4.90717552e-01  5.98110530e-01  6.95682551e-01  7.81831482e-01\n",
            "  8.55142763e-01  9.14412623e-01  9.58667853e-01  9.87181783e-01\n",
            "  9.99486216e-01  9.95379113e-01  9.74927912e-01  9.38468422e-01\n",
            "  8.86599306e-01  8.20172255e-01  7.40277997e-01  6.48228395e-01\n",
            "  5.45534901e-01  4.33883739e-01  3.15108218e-01  1.91158629e-01\n",
            "  6.40702200e-02 -6.40702200e-02 -1.91158629e-01 -3.15108218e-01\n",
            " -4.33883739e-01 -5.45534901e-01 -6.48228395e-01 -7.40277997e-01\n",
            " -8.20172255e-01 -8.86599306e-01 -9.38468422e-01 -9.74927912e-01\n",
            " -9.95379113e-01 -9.99486216e-01 -9.87181783e-01 -9.58667853e-01\n",
            " -9.14412623e-01 -8.55142763e-01 -7.81831482e-01 -6.95682551e-01\n",
            " -5.98110530e-01 -4.90717552e-01 -3.75267005e-01 -2.53654584e-01\n",
            " -1.27877162e-01 -2.44929360e-16]\n"
          ],
          "name": "stdout"
        }
      ]
    },
    {
      "cell_type": "code",
      "metadata": {
        "id": "soJnhqvNgO59",
        "colab_type": "code",
        "outputId": "47365671-8853-4819-bf8c-10ff1523ff97",
        "colab": {
          "base_uri": "https://localhost:8080/",
          "height": 269
        }
      },
      "source": [
        "import matplotlib.pyplot as plt\n",
        "plt.plot(x,y)\n",
        "plt.show()"
      ],
      "execution_count": 0,
      "outputs": [
        {
          "output_type": "display_data",
          "data": {
            "image/png": "[encoded data removed]",
            "text/plain": [
              "<Figure size 432x288 with 1 Axes>"
            ]
          },
          "metadata": {
            "tags": []
          }
        }
      ]
    },
    {
      "cell_type": "markdown",
      "metadata": {
        "id": "dsswVdbKgO5_",
        "colab_type": "text"
      },
      "source": [
        "### Aggregation Functions"
      ]
    },
    {
      "cell_type": "markdown",
      "metadata": {
        "id": "S5Z6BX2DgO5_",
        "colab_type": "text"
      },
      "source": [
        "- Aggregations are functions which summarize the values in an array (e.g. min, max, sum, mean, etc.)\n",
        "- Numpy aggregations are much faster than Python built-in functions\n",
        "\n",
        "- All have the same call style:\n",
        "\n",
        "    `np.min() np.max() np.sum() np.prod()`<br>\n",
        "`np.argsort()`<br>\n",
        "`np.mean() np.std() np.var() np.any()`<br>\n",
        "`np.all() np.median() np.percentile()`<br>\n",
        "`np.argmin() np.argmax() . . .`<br>\n",
        "`np.nanmin() np.nanmax() np.nansum(). . .`<br>\n",
        "\n",
        "<!--\n",
        "<img src=\"figure/np_aggregation.png\", style=\"float: left;\", width=\"300\">\n",
        "-->\n",
        "\n",
        "![myphoto](https://github.com/lsuhpchelp/lbrnloniworkshop2019/raw/master/day2_python/figure/np_aggregation.png)\n"
      ]
    },
    {
      "cell_type": "code",
      "metadata": {
        "id": "bFqM_S3MgO6A",
        "colab_type": "code",
        "outputId": "47212550-6854-49cc-c1b2-a065ee7bf47e",
        "colab": {
          "base_uri": "https://localhost:8080/",
          "height": 52
        }
      },
      "source": [
        "# Numpy Aggregation - Array Calculation\n",
        "a=np.arange(6).reshape(2,-1)\n",
        "print(a)"
      ],
      "execution_count": 0,
      "outputs": [
        {
          "output_type": "stream",
          "text": [
            "[[0 1 2]\n",
            " [3 4 5]]\n"
          ],
          "name": "stdout"
        }
      ]
    },
    {
      "cell_type": "code",
      "metadata": {
        "id": "F1NvY_BNgO6E",
        "colab_type": "code",
        "outputId": "60d48681-b1a6-48fe-f6fa-27d8cfee1e90",
        "colab": {
          "base_uri": "https://localhost:8080/",
          "height": 35
        }
      },
      "source": [
        "# by default a.sum() adds up all values\n",
        "print(a.sum())"
      ],
      "execution_count": 0,
      "outputs": [
        {
          "output_type": "stream",
          "text": [
            "15\n"
          ],
          "name": "stdout"
        }
      ]
    },
    {
      "cell_type": "code",
      "metadata": {
        "id": "ymDmxKItgO6H",
        "colab_type": "code",
        "outputId": "5290e4e3-7889-4eab-e00e-9e96215840a2",
        "colab": {
          "base_uri": "https://localhost:8080/",
          "height": 35
        }
      },
      "source": [
        "# same result, functional form\n",
        "print(np.sum(a))"
      ],
      "execution_count": 0,
      "outputs": [
        {
          "output_type": "stream",
          "text": [
            "15\n"
          ],
          "name": "stdout"
        }
      ]
    },
    {
      "cell_type": "code",
      "metadata": {
        "id": "O42Ws7TugO6I",
        "colab_type": "code",
        "outputId": "8e32adc4-56b5-4813-e84b-efcaac1e3e4f",
        "colab": {
          "base_uri": "https://localhost:8080/",
          "height": 35
        }
      },
      "source": [
        "# note this is not numpy’s sum!\n",
        "print(sum(a))"
      ],
      "execution_count": 0,
      "outputs": [
        {
          "output_type": "stream",
          "text": [
            "[3 5 7]\n"
          ],
          "name": "stdout"
        }
      ]
    },
    {
      "cell_type": "code",
      "metadata": {
        "id": "9jtGzXrPgO6L",
        "colab_type": "code",
        "outputId": "2dcf2b69-e58f-42ca-ebd2-f9f9bc7de42b",
        "colab": {
          "base_uri": "https://localhost:8080/",
          "height": 35
        }
      },
      "source": [
        "# not numpy’s sum either!\n",
        "# sum(a,axis=0)\n",
        "# Traceback (most recent call last):\n",
        "# File \"<stdin>\", line 1, in <module>\n",
        "# TypeError: sum() takes no keyword\n",
        "# arguments\n",
        "# sum along different axis\n",
        "print(np.sum(a,axis=0))"
      ],
      "execution_count": 0,
      "outputs": [
        {
          "output_type": "stream",
          "text": [
            "[3 5 7]\n"
          ],
          "name": "stdout"
        }
      ]
    },
    {
      "cell_type": "code",
      "metadata": {
        "id": "w_3lDtS_gO6P",
        "colab_type": "code",
        "outputId": "6566427a-6414-4c68-fc06-b1074f0ad5a6",
        "colab": {
          "base_uri": "https://localhost:8080/",
          "height": 35
        }
      },
      "source": [
        "print(np.sum(a,axis=1))"
      ],
      "execution_count": 0,
      "outputs": [
        {
          "output_type": "stream",
          "text": [
            "[ 3 12]\n"
          ],
          "name": "stdout"
        }
      ]
    },
    {
      "cell_type": "code",
      "metadata": {
        "id": "qL5ytSXCgO6R",
        "colab_type": "code",
        "outputId": "f009bab7-c8b6-46cb-d762-54c4f81fe980",
        "colab": {
          "base_uri": "https://localhost:8080/",
          "height": 35
        }
      },
      "source": [
        "print(np.sum(a,axis=-1))"
      ],
      "execution_count": 0,
      "outputs": [
        {
          "output_type": "stream",
          "text": [
            "[ 3 12]\n"
          ],
          "name": "stdout"
        }
      ]
    },
    {
      "cell_type": "code",
      "metadata": {
        "id": "MYde3jRHgO6U",
        "colab_type": "code",
        "outputId": "0e267f71-2d1a-44cc-d90d-d818e2d750d9",
        "colab": {
          "base_uri": "https://localhost:8080/",
          "height": 35
        }
      },
      "source": [
        "# product along different axis\n",
        "print(np.prod(a,axis=0))"
      ],
      "execution_count": 0,
      "outputs": [
        {
          "output_type": "stream",
          "text": [
            "[ 0  4 10]\n"
          ],
          "name": "stdout"
        }
      ]
    },
    {
      "cell_type": "code",
      "metadata": {
        "id": "RmM4Xw6kgO6W",
        "colab_type": "code",
        "outputId": "577c6af3-765b-42a7-a069-c653aa4a5086",
        "colab": {
          "base_uri": "https://localhost:8080/",
          "height": 35
        }
      },
      "source": [
        "print(a.prod(axis=1))"
      ],
      "execution_count": 0,
      "outputs": [
        {
          "output_type": "stream",
          "text": [
            "[ 0 60]\n"
          ],
          "name": "stdout"
        }
      ]
    },
    {
      "cell_type": "code",
      "metadata": {
        "id": "XqOKiQsagO6Z",
        "colab_type": "code",
        "outputId": "35f74a3d-5114-4215-f64e-b8099d15c0c9",
        "colab": {
          "base_uri": "https://localhost:8080/",
          "height": 52
        }
      },
      "source": [
        "# Numpy Aggregation – Statistical Methods\n",
        "np.set_printoptions(precision=4)\n",
        "# generate 2x3 random float array\n",
        "a=np.random.random(6).reshape(2,3)\n",
        "print(a)"
      ],
      "execution_count": 0,
      "outputs": [
        {
          "output_type": "stream",
          "text": [
            "[[0.9118 0.7259 0.4487]\n",
            " [0.5667 0.1821 0.5471]]\n"
          ],
          "name": "stdout"
        }
      ]
    },
    {
      "cell_type": "code",
      "metadata": {
        "id": "y4aIKGt9gO6c",
        "colab_type": "code",
        "outputId": "6c188ce5-c88c-4330-d8bf-fa3578cd75f4",
        "colab": {
          "base_uri": "https://localhost:8080/",
          "height": 35
        }
      },
      "source": [
        "print(a.mean(axis=0))"
      ],
      "execution_count": 0,
      "outputs": [
        {
          "output_type": "stream",
          "text": [
            "[0.7392 0.454  0.4979]\n"
          ],
          "name": "stdout"
        }
      ]
    },
    {
      "cell_type": "code",
      "metadata": {
        "id": "w3HfJ41-gO6d",
        "colab_type": "code",
        "outputId": "52789459-cbac-4440-bcdc-2110461b1ab0",
        "colab": {
          "base_uri": "https://localhost:8080/",
          "height": 35
        }
      },
      "source": [
        "print(a.mean(axis=1))"
      ],
      "execution_count": 0,
      "outputs": [
        {
          "output_type": "stream",
          "text": [
            "[0.6955 0.4319]\n"
          ],
          "name": "stdout"
        }
      ]
    },
    {
      "cell_type": "code",
      "metadata": {
        "id": "nigK3KtygO6f",
        "colab_type": "code",
        "outputId": "d971244a-b0f3-4924-e711-c3bb00c2da28",
        "colab": {
          "base_uri": "https://localhost:8080/",
          "height": 35
        }
      },
      "source": [
        "print(a.mean())"
      ],
      "execution_count": 0,
      "outputs": [
        {
          "output_type": "stream",
          "text": [
            "0.5637067966163859\n"
          ],
          "name": "stdout"
        }
      ]
    },
    {
      "cell_type": "code",
      "metadata": {
        "id": "1bzIdZqTgO6i",
        "colab_type": "code",
        "outputId": "8961d4d7-92e5-4468-f703-5b19029c5925",
        "colab": {
          "base_uri": "https://localhost:8080/",
          "height": 35
        }
      },
      "source": [
        "print(np.mean(a))"
      ],
      "execution_count": 0,
      "outputs": [
        {
          "output_type": "stream",
          "text": [
            "0.5637067966163859\n"
          ],
          "name": "stdout"
        }
      ]
    },
    {
      "cell_type": "code",
      "metadata": {
        "id": "zNAz-x4YgO6k",
        "colab_type": "code",
        "outputId": "92a1ca05-0939-487e-a113-c0eb89a7f916",
        "colab": {
          "base_uri": "https://localhost:8080/",
          "height": 35
        }
      },
      "source": [
        "# average can use weights\n",
        "print(np.average(a,weights=[1,2,3],axis=1))"
      ],
      "execution_count": 0,
      "outputs": [
        {
          "output_type": "stream",
          "text": [
            "[0.6183 0.4287]\n"
          ],
          "name": "stdout"
        }
      ]
    },
    {
      "cell_type": "code",
      "metadata": {
        "id": "yxj50CXegO6l",
        "colab_type": "code",
        "outputId": "6646b3da-485b-4f2d-87b8-ae9067d4cbc7",
        "colab": {
          "base_uri": "https://localhost:8080/",
          "height": 35
        }
      },
      "source": [
        "# standard deviation\n",
        "print(a.std(axis=0))"
      ],
      "execution_count": 0,
      "outputs": [
        {
          "output_type": "stream",
          "text": [
            "[0.1726 0.2719 0.0492]\n"
          ],
          "name": "stdout"
        }
      ]
    },
    {
      "cell_type": "code",
      "metadata": {
        "id": "OMWY_EFQgO6m",
        "colab_type": "code",
        "outputId": "dd72cd70-ad01-442d-9a68-5c8d9f067a50",
        "colab": {
          "base_uri": "https://localhost:8080/",
          "height": 35
        }
      },
      "source": [
        "# variance\n",
        "print(np.var(a, axis=1))"
      ],
      "execution_count": 0,
      "outputs": [
        {
          "output_type": "stream",
          "text": [
            "[0.0362 0.0313]\n"
          ],
          "name": "stdout"
        }
      ]
    },
    {
      "cell_type": "code",
      "metadata": {
        "id": "BHvtBzFMgO6o",
        "colab_type": "code",
        "outputId": "c34b5279-814f-4acc-9097-193e933ab03b",
        "colab": {
          "base_uri": "https://localhost:8080/",
          "height": 35
        }
      },
      "source": [
        "# min/max operation\n",
        "print(a.min())"
      ],
      "execution_count": 0,
      "outputs": [
        {
          "output_type": "stream",
          "text": [
            "0.18207512249286928\n"
          ],
          "name": "stdout"
        }
      ]
    },
    {
      "cell_type": "code",
      "metadata": {
        "id": "AvL15KhggO6p",
        "colab_type": "code",
        "outputId": "879d6f2f-5f9f-4600-b230-3263583242f6",
        "colab": {
          "base_uri": "https://localhost:8080/",
          "height": 35
        }
      },
      "source": [
        "print(np.max(a))"
      ],
      "execution_count": 0,
      "outputs": [
        {
          "output_type": "stream",
          "text": [
            "0.9117830917485661\n"
          ],
          "name": "stdout"
        }
      ]
    },
    {
      "cell_type": "code",
      "metadata": {
        "id": "lh83UhlmgO6r",
        "colab_type": "code",
        "outputId": "99a185d9-a56e-4633-9f48-48c5a2ed5e9d",
        "colab": {
          "base_uri": "https://localhost:8080/",
          "height": 35
        }
      },
      "source": [
        "# find index of the minimum\n",
        "print(a.argmin(axis=0))"
      ],
      "execution_count": 0,
      "outputs": [
        {
          "output_type": "stream",
          "text": [
            "[1 1 0]\n"
          ],
          "name": "stdout"
        }
      ]
    },
    {
      "cell_type": "code",
      "metadata": {
        "id": "tAlltljCgO6y",
        "colab_type": "code",
        "outputId": "2d8fec84-6be5-4715-985d-1e6cf166d6b5",
        "colab": {
          "base_uri": "https://localhost:8080/",
          "height": 35
        }
      },
      "source": [
        "print(np.argmax(a,axis=1))"
      ],
      "execution_count": 0,
      "outputs": [
        {
          "output_type": "stream",
          "text": [
            "[0 0]\n"
          ],
          "name": "stdout"
        }
      ]
    },
    {
      "cell_type": "code",
      "metadata": {
        "id": "rOP09U8pgO6z",
        "colab_type": "code",
        "outputId": "6b41b11e-b949-4bd6-d05c-d2ff01633164",
        "colab": {
          "base_uri": "https://localhost:8080/",
          "height": 35
        }
      },
      "source": [
        "# this will return flattened index\n",
        "print(np.argmin(a))"
      ],
      "execution_count": 0,
      "outputs": [
        {
          "output_type": "stream",
          "text": [
            "4\n"
          ],
          "name": "stdout"
        }
      ]
    },
    {
      "cell_type": "code",
      "metadata": {
        "id": "s60pznxlgO60",
        "colab_type": "code",
        "outputId": "9e3735c2-c339-4365-e282-c198d3feef1e",
        "colab": {
          "base_uri": "https://localhost:8080/",
          "height": 35
        }
      },
      "source": [
        "print(a.argmax())"
      ],
      "execution_count": 0,
      "outputs": [
        {
          "output_type": "stream",
          "text": [
            "0\n"
          ],
          "name": "stdout"
        }
      ]
    },
    {
      "cell_type": "markdown",
      "metadata": {
        "id": "qsbFX3PjgO63",
        "colab_type": "text"
      },
      "source": [
        "### Array Broadcasting\n",
        "\n",
        "- Broadcasting is a set of rules by which ufuncs operate on arrays of different sizes and/or dimensions.\n",
        "- Broadcasting allows NumPy arrays of different dimensionality to be\n",
        "combined in the same expression.\n",
        "- Arrays with smaller dimension are broadcasted to match the larger arrays, without copying data."
      ]
    },
    {
      "cell_type": "markdown",
      "metadata": {
        "id": "V59yttxNgO64",
        "colab_type": "text"
      },
      "source": [
        "### Broadcasting Rules\n",
        "- If array shapes differ, left-pad the smaller shape with 1s\n",
        "- If any dimension does not match, broadcast the dimension with size=1\n",
        "\n",
        "<!--\n",
        "<img src=\"figure/np_broadcast.png\", align=\"left\", width=\"500\"></br>\n",
        "-->\n",
        "\n",
        "![myphoto](https://github.com/lsuhpchelp/lbrnloniworkshop2019/raw/master/day2_python/figure/np_broadcast_scale.png)\n",
        "\n"
      ]
    },
    {
      "cell_type": "markdown",
      "metadata": {
        "id": "5yc0IYLrgO66",
        "colab_type": "text"
      },
      "source": [
        "- If neither non-matching dimension is 1, raise an error.\n",
        "\n",
        "<!--\n",
        "<img src=\"figure/np_broadcast_error.png\", align=\"left\", width=\"200\">\n",
        "-->\n",
        "\n",
        "![myphoto](https://github.com/lsuhpchelp/lbrnloniworkshop2019/raw/master/day2_python/figure/np_broadcast_error.png)"
      ]
    },
    {
      "cell_type": "code",
      "metadata": {
        "id": "F6taGEWzgO66",
        "colab_type": "code",
        "outputId": "53debe59-2ecb-43fe-bcde-4bb22c330bc5",
        "colab": {
          "base_uri": "https://localhost:8080/",
          "height": 69
        }
      },
      "source": [
        "a = np.arange(3)\n",
        "print(\"a=\",a)\n",
        "b = 5\n",
        "print(\"b=\",b)\n",
        "print(\"a+b=\",a+b)"
      ],
      "execution_count": 0,
      "outputs": [
        {
          "output_type": "stream",
          "text": [
            "a= [0 1 2]\n",
            "b= 5\n",
            "a+b= [5 6 7]\n"
          ],
          "name": "stdout"
        }
      ]
    },
    {
      "cell_type": "code",
      "metadata": {
        "id": "3lJ6-UYMgO69",
        "colab_type": "code",
        "outputId": "2719bc5c-8c06-498b-c695-957cef4be930",
        "colab": {
          "base_uri": "https://localhost:8080/",
          "height": 191
        }
      },
      "source": [
        "a = np.arange(3).reshape(-1,1)\n",
        "print(\"a=\")\n",
        "print(a)\n",
        "b = 5\n",
        "print(\"b=\")\n",
        "print(b)\n",
        "print(\"a+b=\")\n",
        "print(a+b)"
      ],
      "execution_count": 0,
      "outputs": [
        {
          "output_type": "stream",
          "text": [
            "a=\n",
            "[[0]\n",
            " [1]\n",
            " [2]]\n",
            "b=\n",
            "5\n",
            "a+b=\n",
            "[[5]\n",
            " [6]\n",
            " [7]]\n"
          ],
          "name": "stdout"
        }
      ]
    },
    {
      "cell_type": "code",
      "metadata": {
        "id": "yyluxtgcgO6_",
        "colab_type": "code",
        "outputId": "25538aec-db76-4b2a-f73a-fa0de9098c0c",
        "colab": {
          "base_uri": "https://localhost:8080/",
          "height": 191
        }
      },
      "source": [
        "a = np.ones((3,3))\n",
        "print(\"a=\")\n",
        "print(a)\n",
        "b = np.arange(3)\n",
        "print(\"b=\")\n",
        "print(b)\n",
        "print(\"a+b=\")\n",
        "print(a+b)"
      ],
      "execution_count": 0,
      "outputs": [
        {
          "output_type": "stream",
          "text": [
            "a=\n",
            "[[1. 1. 1.]\n",
            " [1. 1. 1.]\n",
            " [1. 1. 1.]]\n",
            "b=\n",
            "[0 1 2]\n",
            "a+b=\n",
            "[[1. 2. 3.]\n",
            " [1. 2. 3.]\n",
            " [1. 2. 3.]]\n"
          ],
          "name": "stdout"
        }
      ]
    },
    {
      "cell_type": "code",
      "metadata": {
        "id": "4CEop87ygO7A",
        "colab_type": "code",
        "outputId": "e37a9959-c485-42d9-af11-05cf198830b0",
        "colab": {
          "base_uri": "https://localhost:8080/",
          "height": 225
        }
      },
      "source": [
        "a = np.ones((3,3))\n",
        "print(\"a=\")\n",
        "print(a)\n",
        "b = np.arange(3).reshape(-1,1)\n",
        "print(\"b=\")\n",
        "print(b)\n",
        "print(\"a+b=\")\n",
        "print(a+b)"
      ],
      "execution_count": 0,
      "outputs": [
        {
          "output_type": "stream",
          "text": [
            "a=\n",
            "[[1. 1. 1.]\n",
            " [1. 1. 1.]\n",
            " [1. 1. 1.]]\n",
            "b=\n",
            "[[0]\n",
            " [1]\n",
            " [2]]\n",
            "a+b=\n",
            "[[1. 1. 1.]\n",
            " [2. 2. 2.]\n",
            " [3. 3. 3.]]\n"
          ],
          "name": "stdout"
        }
      ]
    },
    {
      "cell_type": "code",
      "metadata": {
        "id": "MhnGBy9ogO7C",
        "colab_type": "code",
        "outputId": "2e3c2455-470b-453c-a7c4-c3eb1550ba91",
        "colab": {
          "base_uri": "https://localhost:8080/",
          "height": 191
        }
      },
      "source": [
        "a = np.arange(3).reshape(3,1)\n",
        "print(\"a=\")\n",
        "print(a)\n",
        "b = np.arange(3)\n",
        "print(\"b=\")\n",
        "print(b)\n",
        "print(\"a+b=\")\n",
        "print(a+b)"
      ],
      "execution_count": 0,
      "outputs": [
        {
          "output_type": "stream",
          "text": [
            "a=\n",
            "[[0]\n",
            " [1]\n",
            " [2]]\n",
            "b=\n",
            "[0 1 2]\n",
            "a+b=\n",
            "[[0 1 2]\n",
            " [1 2 3]\n",
            " [2 3 4]]\n"
          ],
          "name": "stdout"
        }
      ]
    },
    {
      "cell_type": "code",
      "metadata": {
        "id": "uUVSvPY8gO7D",
        "colab_type": "code",
        "outputId": "8f9f272e-e5c5-4179-e2eb-2f8c0c251696",
        "colab": {
          "base_uri": "https://localhost:8080/",
          "height": 121
        }
      },
      "source": [
        "a=np.arange(6).reshape(3,2)\n",
        "print(\"a=\")\n",
        "print(a)\n",
        "b = np.arange(3)\n",
        "print(\"b=\")\n",
        "print(b)\n",
        "# this will raise an error\n",
        "#a + b"
      ],
      "execution_count": 0,
      "outputs": [
        {
          "output_type": "stream",
          "text": [
            "a=\n",
            "[[0 1]\n",
            " [2 3]\n",
            " [4 5]]\n",
            "b=\n",
            "[0 1 2]\n"
          ],
          "name": "stdout"
        }
      ]
    },
    {
      "cell_type": "markdown",
      "metadata": {
        "id": "wCROdnDBgO7E",
        "colab_type": "text"
      },
      "source": [
        "### Slicing, Masking and Fancy Indexing\n",
        "\n",
        "- `arr[lower:upper:step]`\n",
        "- Extracts a portion of a sequence by specifying a lower and upper bound. The lower-bound element is included, but the upper-bound element is not included. Mathematically: `[lower, upper)`. The step value specifies the stride between elements"
      ]
    },
    {
      "cell_type": "code",
      "metadata": {
        "id": "BWcycHbcgO7H",
        "colab_type": "code",
        "colab": {}
      },
      "source": [
        "# indices: 0 1 2 3 4\n",
        "# negative indices:-5 -4 -3 -2 -1\n",
        "a = np.array([10,11,12,13,14])\n",
        "# The following slicing results are the same"
      ],
      "execution_count": 0,
      "outputs": []
    },
    {
      "cell_type": "code",
      "metadata": {
        "id": "1fqloZLOgO7I",
        "colab_type": "code",
        "outputId": "e3c7f0d6-2f67-420d-a220-aa007929aff1",
        "colab": {
          "base_uri": "https://localhost:8080/"
        }
      },
      "source": [
        "print(a[1:3])"
      ],
      "execution_count": 0,
      "outputs": [
        {
          "output_type": "stream",
          "text": [
            "[11 12]\n"
          ],
          "name": "stdout"
        }
      ]
    },
    {
      "cell_type": "code",
      "metadata": {
        "id": "slKQZtMQgO7M",
        "colab_type": "code",
        "outputId": "75290fe9-8b8a-4313-ccb0-81f4782e0a76",
        "colab": {
          "base_uri": "https://localhost:8080/"
        }
      },
      "source": [
        "print(a[1:-2])"
      ],
      "execution_count": 0,
      "outputs": [
        {
          "output_type": "stream",
          "text": [
            "[11 12]\n"
          ],
          "name": "stdout"
        }
      ]
    },
    {
      "cell_type": "code",
      "metadata": {
        "id": "kZbdVRwCgO7Q",
        "colab_type": "code",
        "outputId": "3d814077-f8dc-47a9-eaa7-44a3ecd9d32b",
        "colab": {
          "base_uri": "https://localhost:8080/"
        }
      },
      "source": [
        "print(a[-4:3])"
      ],
      "execution_count": 0,
      "outputs": [
        {
          "output_type": "stream",
          "text": [
            "[11 12]\n"
          ],
          "name": "stdout"
        }
      ]
    },
    {
      "cell_type": "code",
      "metadata": {
        "id": "pjxm8xBpgO7S",
        "colab_type": "code",
        "outputId": "e5fc4b67-d5d4-4270-d217-b192cd0a4982",
        "colab": {
          "base_uri": "https://localhost:8080/"
        }
      },
      "source": [
        "# Omitting Indices: omitted boundaries are assumed to be the beginning\n",
        "# or end of the list, compare the following results\n",
        "print(a[:3])"
      ],
      "execution_count": 0,
      "outputs": [
        {
          "output_type": "stream",
          "text": [
            "[10 11 12]\n"
          ],
          "name": "stdout"
        }
      ]
    },
    {
      "cell_type": "code",
      "metadata": {
        "id": "WMk0BT_RgO7U",
        "colab_type": "code",
        "outputId": "8124699a-1151-4d16-de9c-0bd1a29fbfd6",
        "colab": {
          "base_uri": "https://localhost:8080/"
        }
      },
      "source": [
        "print(a[-2:])"
      ],
      "execution_count": 0,
      "outputs": [
        {
          "output_type": "stream",
          "text": [
            "[13 14]\n"
          ],
          "name": "stdout"
        }
      ]
    },
    {
      "cell_type": "code",
      "metadata": {
        "id": "N2_yvneTgO7X",
        "colab_type": "code",
        "outputId": "962eec9c-8ee0-40ca-fe10-3a4a0dc52c60",
        "colab": {
          "base_uri": "https://localhost:8080/"
        }
      },
      "source": [
        "print(a[1:]) # from 1st element to the last"
      ],
      "execution_count": 0,
      "outputs": [
        {
          "output_type": "stream",
          "text": [
            "[11 12 13 14]\n"
          ],
          "name": "stdout"
        }
      ]
    },
    {
      "cell_type": "code",
      "metadata": {
        "id": "SjxWBYAGgO7Y",
        "colab_type": "code",
        "outputId": "dbcffa76-8d35-4e91-915e-3a469e479479",
        "colab": {
          "base_uri": "https://localhost:8080/"
        }
      },
      "source": [
        "print(a[:-1]) # from 1st to the second to last"
      ],
      "execution_count": 0,
      "outputs": [
        {
          "output_type": "stream",
          "text": [
            "[10 11 12 13]\n"
          ],
          "name": "stdout"
        }
      ]
    },
    {
      "cell_type": "code",
      "metadata": {
        "id": "BPiUsNfsgO7a",
        "colab_type": "code",
        "outputId": "8ba7af6e-fea2-4167-d0e9-c880ae6c06cd",
        "colab": {
          "base_uri": "https://localhost:8080/"
        }
      },
      "source": [
        "print(a[:]) # entire array"
      ],
      "execution_count": 0,
      "outputs": [
        {
          "output_type": "stream",
          "text": [
            "[10 11 12 13 14]\n"
          ],
          "name": "stdout"
        }
      ]
    },
    {
      "cell_type": "code",
      "metadata": {
        "id": "sEuiCIlsgO7b",
        "colab_type": "code",
        "outputId": "8128b3d3-f010-48c8-9d3d-3c0793ebf5ca",
        "colab": {
          "base_uri": "https://localhost:8080/"
        }
      },
      "source": [
        "print(a[::2]) # from 1st, every other element (even indices)"
      ],
      "execution_count": 0,
      "outputs": [
        {
          "output_type": "stream",
          "text": [
            "[10 12 14]\n"
          ],
          "name": "stdout"
        }
      ]
    },
    {
      "cell_type": "code",
      "metadata": {
        "id": "w4lZag3qgO7c",
        "colab_type": "code",
        "outputId": "e24df4d7-116d-4ccc-a595-c9d63613bbd2",
        "colab": {
          "base_uri": "https://localhost:8080/"
        }
      },
      "source": [
        "print(a[1::2]) # from 2nd, every other element (odd indices)"
      ],
      "execution_count": 0,
      "outputs": [
        {
          "output_type": "stream",
          "text": [
            "[11 13]\n"
          ],
          "name": "stdout"
        }
      ]
    },
    {
      "cell_type": "markdown",
      "metadata": {
        "id": "HwpH4UJ9gO7g",
        "colab_type": "text"
      },
      "source": [
        "* #### Multidimensional Arrays"
      ]
    },
    {
      "cell_type": "code",
      "metadata": {
        "id": "fFWloDK3gO7h",
        "colab_type": "code",
        "outputId": "bf1c2f6e-5f3c-4916-d79f-48ead229fbe0",
        "colab": {
          "base_uri": "https://localhost:8080/"
        }
      },
      "source": [
        "# A few 2D operations similar to the 1D operations shown above\n",
        "a = np.array([[ 0, 1, 2, 3],[10,11,12,13]], float)\n",
        "print(a)"
      ],
      "execution_count": 0,
      "outputs": [
        {
          "output_type": "stream",
          "text": [
            "[[ 0.  1.  2.  3.]\n",
            " [10. 11. 12. 13.]]\n"
          ],
          "name": "stdout"
        }
      ]
    },
    {
      "cell_type": "code",
      "metadata": {
        "id": "l57AeQ-MgO7i",
        "colab_type": "code",
        "outputId": "a99b4bb3-9261-43e8-e301-297998aaea9b",
        "colab": {
          "base_uri": "https://localhost:8080/"
        }
      },
      "source": [
        "print(a.shape,a.size)"
      ],
      "execution_count": 0,
      "outputs": [
        {
          "output_type": "stream",
          "text": [
            "(2, 4) 8\n"
          ],
          "name": "stdout"
        }
      ]
    },
    {
      "cell_type": "code",
      "metadata": {
        "id": "6mX-w_BYgO7j",
        "colab_type": "code",
        "outputId": "c73141d2-bb75-4009-f1a6-e6cad848a1b9",
        "colab": {
          "base_uri": "https://localhost:8080/"
        }
      },
      "source": [
        "print(a.ndim) # number of dimensions"
      ],
      "execution_count": 0,
      "outputs": [
        {
          "output_type": "stream",
          "text": [
            "2\n"
          ],
          "name": "stdout"
        }
      ]
    },
    {
      "cell_type": "code",
      "metadata": {
        "id": "MzJMLMywgO7k",
        "colab_type": "code",
        "outputId": "d0d38a5f-ebca-4ecb-8d2d-6279ca536c68",
        "colab": {
          "base_uri": "https://localhost:8080/"
        }
      },
      "source": [
        "print(a[1,3]) # reference a 2D array element"
      ],
      "execution_count": 0,
      "outputs": [
        {
          "output_type": "stream",
          "text": [
            "13.0\n"
          ],
          "name": "stdout"
        }
      ]
    },
    {
      "cell_type": "code",
      "metadata": {
        "id": "mPWZzXYsgO7m",
        "colab_type": "code",
        "colab": {}
      },
      "source": [
        "a[1,3] = -1 # set value of an array element"
      ],
      "execution_count": 0,
      "outputs": []
    },
    {
      "cell_type": "code",
      "metadata": {
        "id": "7dZfUV2agO7n",
        "colab_type": "code",
        "outputId": "c3cf8f1a-ddad-4a98-e68f-dd89a3ddc7f8",
        "colab": {
          "base_uri": "https://localhost:8080/"
        }
      },
      "source": [
        "print(a[1]) # address second row using a single index"
      ],
      "execution_count": 0,
      "outputs": [
        {
          "output_type": "stream",
          "text": [
            "[10. 11. 12. -1.]\n"
          ],
          "name": "stdout"
        }
      ]
    },
    {
      "cell_type": "code",
      "metadata": {
        "id": "grstSYcXgO7o",
        "colab_type": "code",
        "outputId": "4c416277-ede4-4164-86ce-bf1e92fb80ed",
        "colab": {
          "base_uri": "https://localhost:8080/"
        }
      },
      "source": [
        "a = np.arange(1,26)\n",
        "a = a.reshape(5,5) # generate the 2D array\n",
        "print(a)"
      ],
      "execution_count": 0,
      "outputs": [
        {
          "output_type": "stream",
          "text": [
            "[[ 1  2  3  4  5]\n",
            " [ 6  7  8  9 10]\n",
            " [11 12 13 14 15]\n",
            " [16 17 18 19 20]\n",
            " [21 22 23 24 25]]\n"
          ],
          "name": "stdout"
        }
      ]
    },
    {
      "cell_type": "code",
      "metadata": {
        "id": "Bo_zuV2EgO7p",
        "colab_type": "code",
        "outputId": "f2eee7c6-3646-4b59-ea2c-fd1c458b5233",
        "colab": {
          "base_uri": "https://localhost:8080/"
        }
      },
      "source": [
        "print(a[0,3:5])"
      ],
      "execution_count": 0,
      "outputs": [
        {
          "output_type": "stream",
          "text": [
            "[4 5]\n"
          ],
          "name": "stdout"
        }
      ]
    },
    {
      "cell_type": "code",
      "metadata": {
        "id": "IHddn7YxgO7v",
        "colab_type": "code",
        "outputId": "651aadd2-0930-479b-c3d6-a0a91fecb499",
        "colab": {
          "base_uri": "https://localhost:8080/"
        }
      },
      "source": [
        "print(a[0,3:4])"
      ],
      "execution_count": 0,
      "outputs": [
        {
          "output_type": "stream",
          "text": [
            "[4]\n"
          ],
          "name": "stdout"
        }
      ]
    },
    {
      "cell_type": "code",
      "metadata": {
        "id": "68hT5XeHgO7y",
        "colab_type": "code",
        "outputId": "f2544593-7e92-4639-d3f6-170ff4eebd40",
        "colab": {
          "base_uri": "https://localhost:8080/"
        }
      },
      "source": [
        "print(a[4:,4:])"
      ],
      "execution_count": 0,
      "outputs": [
        {
          "output_type": "stream",
          "text": [
            "[[25]]\n"
          ],
          "name": "stdout"
        }
      ]
    },
    {
      "cell_type": "code",
      "metadata": {
        "id": "kcoo4uqTgO70",
        "colab_type": "code",
        "outputId": "e860616d-69c6-465f-c3da-879794a4293b",
        "colab": {
          "base_uri": "https://localhost:8080/"
        }
      },
      "source": [
        "print(a[3:,3:])"
      ],
      "execution_count": 0,
      "outputs": [
        {
          "output_type": "stream",
          "text": [
            "[[19 20]\n",
            " [24 25]]\n"
          ],
          "name": "stdout"
        }
      ]
    },
    {
      "cell_type": "code",
      "metadata": {
        "id": "M3QUPi80gO71",
        "colab_type": "code",
        "outputId": "081b952e-9e74-4077-ea72-8e2893450149",
        "colab": {
          "base_uri": "https://localhost:8080/"
        }
      },
      "source": [
        "print(a[:,2])"
      ],
      "execution_count": 0,
      "outputs": [
        {
          "output_type": "stream",
          "text": [
            "[ 3  8 13 18 23]\n"
          ],
          "name": "stdout"
        }
      ]
    },
    {
      "cell_type": "code",
      "metadata": {
        "id": "ENMMZRRQgO72",
        "colab_type": "code",
        "outputId": "6a15c8c3-d32b-47dd-921b-80dfdad43c52",
        "colab": {
          "base_uri": "https://localhost:8080/"
        }
      },
      "source": [
        "print(a[2::2,::2])"
      ],
      "execution_count": 0,
      "outputs": [
        {
          "output_type": "stream",
          "text": [
            "[[11 13 15]\n",
            " [21 23 25]]\n"
          ],
          "name": "stdout"
        }
      ]
    },
    {
      "cell_type": "markdown",
      "metadata": {
        "id": "dOJ3VUszgO73",
        "colab_type": "text"
      },
      "source": [
        "### Slices Are References\n",
        "- Slices are references to memory in the original array\n",
        "- Changing values in a slice also changes the original array !"
      ]
    },
    {
      "cell_type": "code",
      "metadata": {
        "id": "VKZ5Os7dgO73",
        "colab_type": "code",
        "outputId": "3370e9e0-5609-472c-8ba5-b025ee9537a5",
        "colab": {
          "base_uri": "https://localhost:8080/",
          "height": 35
        }
      },
      "source": [
        "a = np.arange(5)\n",
        "print(a)"
      ],
      "execution_count": 0,
      "outputs": [
        {
          "output_type": "stream",
          "text": [
            "[0 1 2 3 4]\n"
          ],
          "name": "stdout"
        }
      ]
    },
    {
      "cell_type": "code",
      "metadata": {
        "id": "oBpldQJEgO75",
        "colab_type": "code",
        "outputId": "574faac2-9cd9-4262-bc02-1b44109654e1",
        "colab": {
          "base_uri": "https://localhost:8080/",
          "height": 35
        }
      },
      "source": [
        "b = a[2:4]\n",
        "print(b)"
      ],
      "execution_count": 0,
      "outputs": [
        {
          "output_type": "stream",
          "text": [
            "[2 3]\n"
          ],
          "name": "stdout"
        }
      ]
    },
    {
      "cell_type": "code",
      "metadata": {
        "id": "INZqY9gEgO76",
        "colab_type": "code",
        "outputId": "1d8936dc-4234-4a8c-b897-9843a6e6307b",
        "colab": {
          "base_uri": "https://localhost:8080/",
          "height": 35
        }
      },
      "source": [
        "b[0]=7\n",
        "print(a)"
      ],
      "execution_count": 0,
      "outputs": [
        {
          "output_type": "stream",
          "text": [
            "[0 1 7 3 4]\n"
          ],
          "name": "stdout"
        }
      ]
    },
    {
      "cell_type": "markdown",
      "metadata": {
        "id": "NFTphT1PgO77",
        "colab_type": "text"
      },
      "source": [
        "### Masking"
      ]
    },
    {
      "cell_type": "code",
      "metadata": {
        "id": "Zk9OdUTPgO78",
        "colab_type": "code",
        "outputId": "5a4627ab-ab9f-4a9a-ff6a-690e74dec774",
        "colab": {
          "base_uri": "https://localhost:8080/",
          "height": 35
        }
      },
      "source": [
        "a = np.arange(10)\n",
        "print(a)"
      ],
      "execution_count": 0,
      "outputs": [
        {
          "output_type": "stream",
          "text": [
            "[0 1 2 3 4 5 6 7 8 9]\n"
          ],
          "name": "stdout"
        }
      ]
    },
    {
      "cell_type": "code",
      "metadata": {
        "id": "toc0o7rOgO7_",
        "colab_type": "code",
        "outputId": "ac758894-8e9e-45ce-de7b-a55d833b75d3",
        "colab": {
          "base_uri": "https://localhost:8080/",
          "height": 35
        }
      },
      "source": [
        "# creation of mask using ufunc\n",
        "mask=np.abs(a-5)>2\n",
        "print(mask)"
      ],
      "execution_count": 0,
      "outputs": [
        {
          "output_type": "stream",
          "text": [
            "[ True  True  True False False False False False  True  True]\n"
          ],
          "name": "stdout"
        }
      ]
    },
    {
      "cell_type": "code",
      "metadata": {
        "id": "ux9tOyswgO8C",
        "colab_type": "code",
        "outputId": "387ea739-97f8-4e92-c0eb-2743d353ee2e",
        "colab": {
          "base_uri": "https://localhost:8080/",
          "height": 35
        }
      },
      "source": [
        "print(a[mask])"
      ],
      "execution_count": 0,
      "outputs": [
        {
          "output_type": "stream",
          "text": [
            "[0 1 2 8 9]\n"
          ],
          "name": "stdout"
        }
      ]
    },
    {
      "cell_type": "code",
      "metadata": {
        "id": "engr-shJgO8F",
        "colab_type": "code",
        "outputId": "b58b49d1-6c9b-4d31-d32d-3dd5e47f9105",
        "colab": {
          "base_uri": "https://localhost:8080/",
          "height": 35
        }
      },
      "source": [
        "b=a[mask]\n",
        "# manual creation of mask\n",
        "mask=np.array([0,1,0,1,0],dtype=bool)\n",
        "print(b[mask])"
      ],
      "execution_count": 0,
      "outputs": [
        {
          "output_type": "stream",
          "text": [
            "[1 8]\n"
          ],
          "name": "stdout"
        }
      ]
    },
    {
      "cell_type": "markdown",
      "metadata": {
        "id": "vRJUBR-FgO8G",
        "colab_type": "text"
      },
      "source": [
        "### 2D Masking\n",
        "<!--\n",
        "<img src=\"https://github.com/lsuhpchelp/lbrnloniworkshop2018/raw/master/day2_python/figure/masking_2d.png\", style=\"float: left;\", width=\"250\">\n",
        "-->\n",
        "\n",
        "\n",
        "![masking 2d](https://github.com/lsuhpchelp/lbrnloniworkshop2019/raw/master/day2_python/figure/masking_2d_scale.png)"
      ]
    },
    {
      "cell_type": "code",
      "metadata": {
        "id": "xhjGE4q5gO8G",
        "colab_type": "code",
        "outputId": "b0904389-ddc0-4bbb-ee53-a493765c9345",
        "colab": {
          "base_uri": "https://localhost:8080/",
          "height": 104
        }
      },
      "source": [
        "a=np.arange(25).reshape(5,5)+10\n",
        "print(a)"
      ],
      "execution_count": 0,
      "outputs": [
        {
          "output_type": "stream",
          "text": [
            "[[10 11 12 13 14]\n",
            " [15 16 17 18 19]\n",
            " [20 21 22 23 24]\n",
            " [25 26 27 28 29]\n",
            " [30 31 32 33 34]]\n"
          ],
          "name": "stdout"
        }
      ]
    },
    {
      "cell_type": "code",
      "metadata": {
        "id": "flTvRcfGgO8H",
        "colab_type": "code",
        "outputId": "f288fd84-a9fd-4d36-adab-1148615ee337",
        "colab": {
          "base_uri": "https://localhost:8080/",
          "height": 69
        }
      },
      "source": [
        "mask=np.array([0,1,1,0,1],dtype=bool)\n",
        "print(a[mask]) # on rows, same as a[mask,:]"
      ],
      "execution_count": 0,
      "outputs": [
        {
          "output_type": "stream",
          "text": [
            "[[15 16 17 18 19]\n",
            " [20 21 22 23 24]\n",
            " [30 31 32 33 34]]\n"
          ],
          "name": "stdout"
        }
      ]
    },
    {
      "cell_type": "code",
      "metadata": {
        "id": "-xCLHmV7gO8J",
        "colab_type": "code",
        "outputId": "32cced76-db98-4d6a-ab0d-2c017ab68aed",
        "colab": {
          "base_uri": "https://localhost:8080/",
          "height": 104
        }
      },
      "source": [
        "print(a[:,mask]) # on columns"
      ],
      "execution_count": 0,
      "outputs": [
        {
          "output_type": "stream",
          "text": [
            "[[11 12 14]\n",
            " [16 17 19]\n",
            " [21 22 24]\n",
            " [26 27 29]\n",
            " [31 32 34]]\n"
          ],
          "name": "stdout"
        }
      ]
    },
    {
      "cell_type": "markdown",
      "metadata": {
        "id": "2XmKUIvmgO8M",
        "colab_type": "text"
      },
      "source": [
        "### Fancy Indexing - 1D\n",
        "- NumPy offers more indexing facilities than regular Python sequences.\n",
        "- In addition to indexing by integers and slices, arrays can be indexed by arrays of integers and arrays of Booleans (as seen before)."
      ]
    },
    {
      "cell_type": "code",
      "metadata": {
        "id": "nYZBYUvugO8M",
        "colab_type": "code",
        "outputId": "b6960d32-2215-4054-c463-bf69985d3d34",
        "colab": {
          "base_uri": "https://localhost:8080/",
          "height": 52
        }
      },
      "source": [
        "a=np.arange(8)**2\n",
        "print(a)\n",
        "# indexing by position\n",
        "i=np.array([1,3,5,1])\n",
        "print(a[i])"
      ],
      "execution_count": 0,
      "outputs": [
        {
          "output_type": "stream",
          "text": [
            "[ 0  1  4  9 16 25 36 49]\n",
            "[ 1  9 25  1]\n"
          ],
          "name": "stdout"
        }
      ]
    },
    {
      "cell_type": "code",
      "metadata": {
        "id": "CoLro3O-gO8N",
        "colab_type": "code",
        "outputId": "8c07f856-cd15-4cc3-8e0d-85e3a2ec4abe",
        "colab": {
          "base_uri": "https://localhost:8080/",
          "height": 69
        }
      },
      "source": [
        "b=(np.arange(6)**2).reshape(2,-1)\n",
        "print(b)\n",
        "i=[0,1,0]\n",
        "j=[0,2,1]\n",
        "print(b[i,j]) # indexing 2D array by position"
      ],
      "execution_count": 0,
      "outputs": [
        {
          "output_type": "stream",
          "text": [
            "[[ 0  1  4]\n",
            " [ 9 16 25]]\n",
            "[ 0 25  1]\n"
          ],
          "name": "stdout"
        }
      ]
    },
    {
      "cell_type": "markdown",
      "metadata": {
        "id": "7PyqbzrhgO8P",
        "colab_type": "text"
      },
      "source": [
        "### Fancy Indexing - 2D\n",
        "<!--\n",
        "<img src=\"figure/fancy_indexing_2d.png\", style=\"float: left;\", width=\"200\">\n",
        "-->\n",
        "![masking 2d](https://github.com/lsuhpchelp/lbrnloniworkshop2019/raw/master/day2_python/figure/fancy_indexing_2d_scale.png)"
      ]
    },
    {
      "cell_type": "code",
      "metadata": {
        "id": "_3w-6NC0gO8P",
        "colab_type": "code",
        "outputId": "ef43e903-aed3-4d56-bcf5-1c3bbc199c1d",
        "colab": {
          "base_uri": "https://localhost:8080/",
          "height": 87
        }
      },
      "source": [
        "b=(np.arange(12)**2).reshape(3,-1)\n",
        "print(b)\n",
        "i=[0,2,1]\n",
        "j=[0,2,3]\n",
        "# indexing 2D array\n",
        "print(b[i,j])"
      ],
      "execution_count": 0,
      "outputs": [
        {
          "output_type": "stream",
          "text": [
            "[[  0   1   4   9]\n",
            " [ 16  25  36  49]\n",
            " [ 64  81 100 121]]\n",
            "[  0 100  49]\n"
          ],
          "name": "stdout"
        }
      ]
    },
    {
      "cell_type": "code",
      "metadata": {
        "id": "OHyHKfsMgO8R",
        "colab_type": "code",
        "outputId": "fb03f8ea-b0f5-4358-f9b8-4fb5cc856308",
        "colab": {
          "base_uri": "https://localhost:8080/",
          "height": 52
        }
      },
      "source": [
        "# note the shape of the resulting array\n",
        "i=[[0,2],[2,1]]\n",
        "j=[[0,3],[3,1]]\n",
        "# When an array of indices is used,\n",
        "# the result has the same shape as the indices;\n",
        "print(b[i,j])"
      ],
      "execution_count": 0,
      "outputs": [
        {
          "output_type": "stream",
          "text": [
            "[[  0 121]\n",
            " [121  25]]\n"
          ],
          "name": "stdout"
        }
      ]
    },
    {
      "cell_type": "markdown",
      "metadata": {
        "id": "wv1alMymgO8T",
        "colab_type": "text"
      },
      "source": [
        "## Example of using masking, and plotting"
      ]
    },
    {
      "cell_type": "code",
      "metadata": {
        "id": "W9gnjAJFgO8U",
        "colab_type": "code",
        "colab": {}
      },
      "source": [
        "x = np.linspace(-np.pi, np.pi, 30,endpoint=True)\n",
        "y = np.sin(x)"
      ],
      "execution_count": 0,
      "outputs": []
    },
    {
      "cell_type": "code",
      "metadata": {
        "id": "FBCngNczgO8V",
        "colab_type": "code",
        "outputId": "de5434ba-eecb-4ea5-e771-dad831e1259d",
        "colab": {
          "base_uri": "https://localhost:8080/",
          "height": 269
        }
      },
      "source": [
        "import matplotlib.pyplot as plt\n",
        "plt.plot(x,y,'b-s')\n",
        "plt.show()"
      ],
      "execution_count": 0,
      "outputs": [
        {
          "output_type": "display_data",
          "data": {
            "image/png": "[encoded data removed]",
            "text/plain": [
              "<Figure size 432x288 with 1 Axes>"
            ]
          },
          "metadata": {
            "tags": []
          }
        }
      ]
    },
    {
      "cell_type": "code",
      "metadata": {
        "id": "JtBJ728HgO8W",
        "colab_type": "code",
        "outputId": "9046e468-1286-4e7c-823e-6c2b6f5a0878",
        "colab": {
          "base_uri": "https://localhost:8080/",
          "height": 104
        }
      },
      "source": [
        "# plot the y>0 part\n",
        "mask = y>0\n",
        "print(mask)\n",
        "print(x[mask])"
      ],
      "execution_count": 0,
      "outputs": [
        {
          "output_type": "stream",
          "text": [
            "[False False False False False False False False False False False False\n",
            " False False False  True  True  True  True  True  True  True  True  True\n",
            "  True  True  True  True  True  True]\n",
            "[0.1083 0.325  0.5417 0.7583 0.975  1.1916 1.4083 1.625  1.8416 2.0583\n",
            " 2.2749 2.4916 2.7083 2.9249 3.1416]\n"
          ],
          "name": "stdout"
        }
      ]
    },
    {
      "cell_type": "code",
      "metadata": {
        "id": "JcSa6avMgO8Z",
        "colab_type": "code",
        "outputId": "c4b797df-1d2a-49fe-c2ad-82164a650f56",
        "colab": {
          "base_uri": "https://localhost:8080/",
          "height": 269
        }
      },
      "source": [
        "plt.plot(x,y,'b-s')\n",
        "plt.plot(x[mask],y[mask],'r-o')\n",
        "plt.show()"
      ],
      "execution_count": 0,
      "outputs": [
        {
          "output_type": "display_data",
          "data": {
            "image/png": "[encoded data removed]",
            "text/plain": [
              "<Figure size 432x288 with 1 Axes>"
            ]
          },
          "metadata": {
            "tags": []
          }
        }
      ]
    },
    {
      "cell_type": "code",
      "metadata": {
        "id": "bALAF-2dgO8b",
        "colab_type": "code",
        "colab": {}
      },
      "source": [
        "mask1 = (y<0) & (x>-np.pi/2)"
      ],
      "execution_count": 0,
      "outputs": []
    },
    {
      "cell_type": "code",
      "metadata": {
        "id": "827tOLUDgO8f",
        "colab_type": "code",
        "outputId": "c7a691ae-290e-4739-98a4-93ada06d3b46",
        "colab": {
          "base_uri": "https://localhost:8080/",
          "height": 269
        }
      },
      "source": [
        "# plot between -pi/2 and pi/2\n",
        "plt.plot(x,y,'b-s')\n",
        "plt.plot(x[mask1],y[mask1],'m-^')\n",
        "plt.show()"
      ],
      "execution_count": 0,
      "outputs": [
        {
          "output_type": "display_data",
          "data": {
            "image/png": "[encoded data removed]",
            "text/plain": [
              "<Figure size 432x288 with 1 Axes>"
            ]
          },
          "metadata": {
            "tags": []
          }
        }
      ]
    },
    {
      "cell_type": "markdown",
      "metadata": {
        "id": "dr9IHrvNgO8i",
        "colab_type": "text"
      },
      "source": [
        "# Examples\n",
        "## 1. Calculate Derivative of a function"
      ]
    },
    {
      "cell_type": "code",
      "metadata": {
        "id": "t49MEscWgO8j",
        "colab_type": "code",
        "colab": {}
      },
      "source": [
        "\"\"\"\n",
        "Calculate Derivative\n",
        "--------------------\n",
        "\"\"\"\n",
        "import numpy as np\n",
        "import matplotlib.pyplot as plt\n",
        "\n",
        "# calculate the sin() function on evenly spaced data.\n",
        "x = np.linspace(0,2*np.pi,101)\n",
        "y = np.sin(x)\n",
        "\n",
        "# use slicing to get dy and dx\n",
        "dy=y[1:]-y[:-1]\n",
        "dx=x[1:]-x[:-1]\n",
        "\n",
        "dy_dx = dy/dx\n",
        "cx = 0.5*(x[1:]+x[:-1])"
      ],
      "execution_count": 0,
      "outputs": []
    },
    {
      "cell_type": "code",
      "metadata": {
        "id": "pWOSdg0DgO8o",
        "colab_type": "code",
        "outputId": "e73ac135-1780-4d84-9b92-bde0bf8bad75",
        "colab": {
          "base_uri": "https://localhost:8080/",
          "height": 269
        }
      },
      "source": [
        "# plt.subplot(1,2,1)\n",
        "plt.plot(x,y)\n",
        "plt.plot(cx,dy_dx,'xr')\n",
        "plt.plot(x,np.cos(x),'-g')\n",
        "plt.show()"
      ],
      "execution_count": 0,
      "outputs": [
        {
          "output_type": "display_data",
          "data": {
            "image/png": "[encoded data removed]",
            "text/plain": [
              "<Figure size 432x288 with 1 Axes>"
            ]
          },
          "metadata": {
            "tags": []
          }
        }
      ]
    },
    {
      "cell_type": "markdown",
      "metadata": {
        "id": "xkCuC14jgO8q",
        "colab_type": "text"
      },
      "source": [
        "## 2. Change RGB Image to Grayscale"
      ]
    },
    {
      "cell_type": "code",
      "metadata": {
        "id": "zpVR4Ce5_-p-",
        "colab_type": "code",
        "outputId": "849c71d2-9d5e-4dab-e0e8-69441ee6e2a8",
        "colab": {
          "base_uri": "https://localhost:8080/",
          "height": 225
        }
      },
      "source": [
        "# download the file to local virtual machine\n",
        "! if [ ! -f \"cat.jpg\" ]; then wget 'https://raw.githubusercontent.com/lsuhpchelp/lbrnloniworkshop2019/master/day2_python/cat.jpg'; else echo 'file exists'; fi;\n",
        "! ls cat.jpg -lh"
      ],
      "execution_count": 0,
      "outputs": [
        {
          "output_type": "stream",
          "text": [
            "--2019-05-28 04:14:35--  https://raw.githubusercontent.com/lsuhpchelp/lbrnloniworkshop2019/master/day2_python/cat.jpg\n",
            "Resolving raw.githubusercontent.com (raw.githubusercontent.com)... 151.101.0.133, 151.101.64.133, 151.101.128.133, ...\n",
            "Connecting to raw.githubusercontent.com (raw.githubusercontent.com)|151.101.0.133|:443... connected.\n",
            "HTTP request sent, awaiting response... 200 OK\n",
            "Length: 29813 (29K) [image/jpeg]\n",
            "Saving to: ‘cat.jpg’\n",
            "\n",
            "\rcat.jpg               0%[                    ]       0  --.-KB/s               \rcat.jpg             100%[===================>]  29.11K  --.-KB/s    in 0.01s   \n",
            "\n",
            "2019-05-28 04:14:35 (2.31 MB/s) - ‘cat.jpg’ saved [29813/29813]\n",
            "\n",
            "-rw-r--r-- 1 root root 30K May 28 04:14 cat.jpg\n"
          ],
          "name": "stdout"
        }
      ]
    },
    {
      "cell_type": "code",
      "metadata": {
        "id": "U28S_haSgO8q",
        "colab_type": "code",
        "outputId": "16a75ca4-a2da-486c-ac8e-6e0168e15482",
        "colab": {
          "base_uri": "https://localhost:8080/",
          "height": 884
        }
      },
      "source": [
        "import imageio\n",
        "import matplotlib.pyplot as plt\n",
        "\n",
        "catjpgfile = 'cat.jpg'\n",
        "img = imageio.imread(catjpgfile)\n",
        "print(img)\n",
        "print(img.shape)"
      ],
      "execution_count": 0,
      "outputs": [
        {
          "output_type": "stream",
          "text": [
            "[[[132 128 117]\n",
            "  [155 151 139]\n",
            "  [181 175 161]\n",
            "  ...\n",
            "  [ 78  68  43]\n",
            "  [ 76  65  43]\n",
            "  [ 64  53  31]]\n",
            "\n",
            " [[134 130 118]\n",
            "  [152 148 136]\n",
            "  [177 171 157]\n",
            "  ...\n",
            "  [ 75  65  40]\n",
            "  [ 72  61  39]\n",
            "  [ 62  51  29]]\n",
            "\n",
            " [[138 134 122]\n",
            "  [151 145 131]\n",
            "  [174 168 152]\n",
            "  ...\n",
            "  [ 71  61  36]\n",
            "  [ 68  58  33]\n",
            "  [ 59  51  28]]\n",
            "\n",
            " ...\n",
            "\n",
            " [[115 145  75]\n",
            "  [107 137  67]\n",
            "  [106 135  69]\n",
            "  ...\n",
            "  [113 101  79]\n",
            "  [106  94  72]\n",
            "  [103  91  67]]\n",
            "\n",
            " [[107 134  65]\n",
            "  [112 139  72]\n",
            "  [109 138  72]\n",
            "  ...\n",
            "  [112  97  78]\n",
            "  [109  94  73]\n",
            "  [101  89  67]]\n",
            "\n",
            " [[124 151  84]\n",
            "  [116 143  76]\n",
            "  [111 140  74]\n",
            "  ...\n",
            "  [ 91  76  57]\n",
            "  [ 89  74  55]\n",
            "  [ 86  71  50]]]\n",
            "(400, 248, 3)\n"
          ],
          "name": "stdout"
        }
      ]
    },
    {
      "cell_type": "code",
      "metadata": {
        "id": "-nQaGEW9gO8v",
        "colab_type": "code",
        "outputId": "3a1e0f4f-ff21-4730-c9f7-df9ab60f3685",
        "colab": {
          "base_uri": "https://localhost:8080/",
          "height": 35
        }
      },
      "source": [
        "img_tinted = np.average(img,weights=[0.299,0.587,0.114],axis=2)\n",
        "print(img_tinted.shape)"
      ],
      "execution_count": 0,
      "outputs": [
        {
          "output_type": "stream",
          "text": [
            "(400, 248)\n"
          ],
          "name": "stdout"
        }
      ]
    },
    {
      "cell_type": "code",
      "metadata": {
        "id": "lwPAoehGgO8x",
        "colab_type": "code",
        "outputId": "d95dbaa0-1639-4445-b7dd-d3972ec347df",
        "colab": {
          "base_uri": "https://localhost:8080/",
          "height": 269
        }
      },
      "source": [
        "# Show the original image\n",
        "plt.subplot(1, 2, 1)\n",
        "plt.imshow(img)\n",
        "\n",
        "# Show the tinted image\n",
        "plt.subplot(1, 2, 2)\n",
        "\n",
        "# A slight gotcha with imshow is that it might give strange results\n",
        "# if presented with data that is not uint8. To work around this, we\n",
        "# explicitly cast the image to uint8 before displaying it.\n",
        "#plt.imshow(np.uint8(img_tinted), cmap=plt.get_cmap('gray'))\n",
        "plt.imshow(np.uint8(img_tinted), cmap='gray')\n",
        "#plt.imshow(img_tinted)\n",
        "plt.show()"
      ],
      "execution_count": 0,
      "outputs": [
        {
          "output_type": "display_data",
          "data": {
            "image/png": "[encoded data removed]",
            "text/plain": [
              "<Figure size 432x288 with 2 Axes>"
            ]
          },
          "metadata": {
            "tags": []
          }
        }
      ]
    },
    {
      "cell_type": "markdown",
      "metadata": {
        "id": "bf8HKORPgO81",
        "colab_type": "text"
      },
      "source": [
        "## 3. Scipy Example: Regression"
      ]
    },
    {
      "cell_type": "code",
      "metadata": {
        "id": "Mpkqa5VDgO82",
        "colab_type": "code",
        "colab": {}
      },
      "source": [
        "from scipy import stats\n",
        "import numpy as np\n",
        "import matplotlib.pyplot as plt\n",
        "\n",
        "x = np.array([1, 2, 5, 7, 10, 15])\n",
        "y = np.array([2, 6, 7, 9, 14, 19]) \n",
        "slope, intercept, r_value, p_value, std_err = stats.linregress(x,y)"
      ],
      "execution_count": 0,
      "outputs": []
    },
    {
      "cell_type": "code",
      "metadata": {
        "id": "viJcEt39gO84",
        "colab_type": "code",
        "outputId": "1a502c73-9412-428a-8a19-8a4244e63fc3",
        "colab": {
          "base_uri": "https://localhost:8080/",
          "height": 269
        }
      },
      "source": [
        "plt.plot(x,y,'or')\n",
        "yh = x*slope + intercept\n",
        "plt.plot(x, yh, '-b')\n",
        "plt.show()"
      ],
      "execution_count": 0,
      "outputs": [
        {
          "output_type": "display_data",
          "data": {
            "image/png": "[encoded data removed]",
            "text/plain": [
              "<Figure size 432x288 with 1 Axes>"
            ]
          },
          "metadata": {
            "tags": []
          }
        }
      ]
    },
    {
      "cell_type": "code",
      "metadata": {
        "id": "MMhwtCGhgO89",
        "colab_type": "code",
        "colab": {}
      },
      "source": [
        ""
      ],
      "execution_count": 0,
      "outputs": []
    }
  ]
}